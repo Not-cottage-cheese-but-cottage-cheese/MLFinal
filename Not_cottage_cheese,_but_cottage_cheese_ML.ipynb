{
  "nbformat": 4,
  "nbformat_minor": 0,
  "metadata": {
    "colab": {
      "name": "Not cottage cheese, but cottage cheese ML.ipynb",
      "provenance": [],
      "collapsed_sections": []
    },
    "kernelspec": {
      "name": "python3",
      "display_name": "Python 3"
    },
    "language_info": {
      "name": "python"
    }
  },
  "cells": [
    {
      "cell_type": "markdown",
      "source": [
        "# ML\n",
        "\n",
        "Команда: Не творог, а творог"
      ],
      "metadata": {
        "id": "wDCYFCMmfVgs"
      }
    },
    {
      "cell_type": "markdown",
      "source": [
        "## 10"
      ],
      "metadata": {
        "id": "ixcEIMkrfiu8"
      }
    },
    {
      "cell_type": "markdown",
      "source": [
        "**Задание**:\n",
        "\n",
        "Выведите топ-50 самых многочисленных категорий, доступных в классификации этой базы данных.\n",
        "\n",
        "Выведите топ-50 самых популярных стилей, доступных в классификации этой базы данных.\n"
      ],
      "metadata": {
        "id": "C6dgtk37f0rV"
      }
    },
    {
      "cell_type": "markdown",
      "source": [
        "\n",
        "Импортируем все необходимое:"
      ],
      "metadata": {
        "id": "6i69_a2vf_d0"
      }
    },
    {
      "cell_type": "code",
      "source": [
        "import random\n",
        "import tqdm\n",
        "import pandas as pd\n",
        "\n",
        "from lxml import etree"
      ],
      "metadata": {
        "id": "vq_19KNzQwMY"
      },
      "execution_count": null,
      "outputs": []
    },
    {
      "cell_type": "markdown",
      "source": [
        "Загрузим и распакуем дамп мастер релизов:"
      ],
      "metadata": {
        "id": "VTFGx7drfne0"
      }
    },
    {
      "cell_type": "code",
      "execution_count": null,
      "metadata": {
        "colab": {
          "base_uri": "https://localhost:8080/"
        },
        "id": "pCof3ITZQjDi",
        "outputId": "faee10a2-331f-462a-f5c6-cff1274a8b4c"
      },
      "outputs": [
        {
          "output_type": "stream",
          "name": "stdout",
          "text": [
            "--2022-07-10 08:54:24--  http://discogs-data-dumps.s3-us-west-2.amazonaws.com/data/2022/discogs_20220601_masters.xml.gz\n",
            "Resolving discogs-data-dumps.s3-us-west-2.amazonaws.com (discogs-data-dumps.s3-us-west-2.amazonaws.com)... 52.92.209.178\n",
            "Connecting to discogs-data-dumps.s3-us-west-2.amazonaws.com (discogs-data-dumps.s3-us-west-2.amazonaws.com)|52.92.209.178|:80... connected.\n",
            "HTTP request sent, awaiting response... 200 OK\n",
            "Length: 462807679 (441M) [application/x-gzip]\n",
            "Saving to: ‘discogs_20220601_masters.xml.gz’\n",
            "\n",
            "discogs_20220601_ma 100%[===================>] 441.37M  20.4MB/s    in 23s     \n",
            "\n",
            "2022-07-10 08:54:47 (19.4 MB/s) - ‘discogs_20220601_masters.xml.gz’ saved [462807679/462807679]\n",
            "\n"
          ]
        }
      ],
      "source": [
        "!wget http://discogs-data-dumps.s3-us-west-2.amazonaws.com/data/2022/discogs_20220601_masters.xml.gz\n",
        "!gunzip discogs_20220601_masters.xml.gz"
      ]
    },
    {
      "cell_type": "code",
      "source": [
        "!ls -lsh"
      ],
      "metadata": {
        "colab": {
          "base_uri": "https://localhost:8080/"
        },
        "id": "RCS5DCp1YIFY",
        "outputId": "7f7438cd-9e34-4b5e-9d57-4aa3d71369ff"
      },
      "execution_count": null,
      "outputs": [
        {
          "output_type": "stream",
          "name": "stdout",
          "text": [
            "total 2.6G\n",
            " 72K -rw-r--r-- 1 root root  72K Jul 10 07:52 compilations.csv\n",
            "2.6G -rw-r--r-- 1 root root 2.6G Jun  8 05:31 discogs_20220601_masters.xml\n",
            "4.0K drwxr-xr-x 1 root root 4.0K Jul  6 13:22 sample_data\n",
            "6.8M -rw-r--r-- 1 root root 6.8M Jul 10 07:55 tracks.csv\n"
          ]
        }
      ]
    },
    {
      "cell_type": "markdown",
      "source": [
        "Данные весят 2.6 Гигабайт! Мои попытки считать их целиком приводили к переполнению оперативной памяти. Придется итерироваться по файлу батчами. Найдем все жанры и стили в файле:"
      ],
      "metadata": {
        "id": "Psiyd5_Rg1S4"
      }
    },
    {
      "cell_type": "code",
      "source": [
        "all_genres = []\n",
        "all_styles = []\n",
        "\n",
        "for event, element in tqdm.tqdm(etree.iterparse(\n",
        "    'discogs_20220601_masters.xml',\n",
        "    tag='master',\n",
        ")):\n",
        "  id = element.get('id')\n",
        "  for el_c in element.iterchildren():\n",
        "    if el_c.tag == 'genres':\n",
        "      for el_c_c in el_c.iterchildren():\n",
        "        all_genres.append((id, el_c_c.text))\n",
        "    if el_c.tag == 'styles':\n",
        "      for el_c_c in el_c.iterchildren():\n",
        "        all_styles.append((id, el_c_c.text))\n",
        "  element.clear()"
      ],
      "metadata": {
        "colab": {
          "base_uri": "https://localhost:8080/"
        },
        "id": "1G8dj4g6RTo0",
        "outputId": "ad5bdd80-ffad-4812-b0a4-5119e8a9cb48"
      },
      "execution_count": null,
      "outputs": [
        {
          "output_type": "stream",
          "name": "stderr",
          "text": [
            "2054691it [01:26, 23764.72it/s]\n"
          ]
        }
      ]
    },
    {
      "cell_type": "markdown",
      "source": [
        "Создадим pd.Series с жанрами и стилями:"
      ],
      "metadata": {
        "id": "9alpIQwsiZVD"
      }
    },
    {
      "cell_type": "code",
      "source": [
        "all_genres_series = pd.DataFrame(all_genres).set_index(0)[1]\n",
        "all_styles_series = pd.DataFrame(all_styles).set_index(0)[1]"
      ],
      "metadata": {
        "id": "Vmt_NYj9RbX9"
      },
      "execution_count": null,
      "outputs": []
    },
    {
      "cell_type": "markdown",
      "source": [
        "Выведем топ-50 жанров:"
      ],
      "metadata": {
        "id": "658aGm_aila_"
      }
    },
    {
      "cell_type": "code",
      "source": [
        "all_genres_series.value_counts().sort_values(ascending=False).head(50)"
      ],
      "metadata": {
        "colab": {
          "base_uri": "https://localhost:8080/"
        },
        "id": "BTarUiQ3_05t",
        "outputId": "a9da28e3-e926-4773-ac6a-a9ba51388bc2"
      },
      "execution_count": null,
      "outputs": [
        {
          "output_type": "execute_result",
          "data": {
            "text/plain": [
              "Rock                      638898\n",
              "Electronic                580580\n",
              "Pop                       409947\n",
              "Folk, World, & Country    249050\n",
              "Jazz                      164914\n",
              "Funk / Soul               147053\n",
              "Classical                 121313\n",
              "Hip Hop                    99176\n",
              "Latin                      78698\n",
              "Reggae                     55912\n",
              "Stage & Screen             55856\n",
              "Blues                      44106\n",
              "Non-Music                  33287\n",
              "Children's                 18397\n",
              "Brass & Military            6150\n",
              "Name: 1, dtype: int64"
            ]
          },
          "metadata": {},
          "execution_count": 58
        }
      ]
    },
    {
      "cell_type": "markdown",
      "source": [
        "Выведем топ-50 стилей:"
      ],
      "metadata": {
        "id": "M3r8kvPbiraL"
      }
    },
    {
      "cell_type": "code",
      "source": [
        "all_styles_series.value_counts().sort_values(ascending=False).head(50)"
      ],
      "metadata": {
        "colab": {
          "base_uri": "https://localhost:8080/"
        },
        "id": "5tKS76WWHTrK",
        "outputId": "a1e8f6bd-c659-40b3-b2dc-37be08234254"
      },
      "execution_count": null,
      "outputs": [
        {
          "output_type": "execute_result",
          "data": {
            "text/plain": [
              "House                88638\n",
              "Pop Rock             87455\n",
              "Vocal                74872\n",
              "Punk                 74297\n",
              "Experimental         68558\n",
              "Techno               64998\n",
              "Hardcore             57162\n",
              "Synth-pop            54403\n",
              "Indie Rock           54205\n",
              "Alternative Rock     53197\n",
              "Soul                 52936\n",
              "Ambient              52543\n",
              "Disco                48956\n",
              "Folk                 48070\n",
              "Country              46281\n",
              "Electro              45395\n",
              "Trance               41993\n",
              "Ballad               40728\n",
              "Chanson              40181\n",
              "Rock & Roll          33940\n",
              "Downtempo            31750\n",
              "Psychedelic Rock     30717\n",
              "Hard Rock            30337\n",
              "Schlager             30316\n",
              "Romantic             29155\n",
              "Black Metal          28369\n",
              "Funk                 27958\n",
              "Drum n Bass          26928\n",
              "Folk Rock            26769\n",
              "Easy Listening       26614\n",
              "Heavy Metal          26564\n",
              "Deep House           26502\n",
              "Soundtrack           26174\n",
              "Tech House           25798\n",
              "Industrial           24045\n",
              "Rhythm & Blues       23958\n",
              "Euro House           23731\n",
              "Noise                23326\n",
              "Prog Rock            22540\n",
              "Garage Rock          21903\n",
              "New Wave             20758\n",
              "Death Metal          20712\n",
              "Classical            20236\n",
              "Minimal              19855\n",
              "Progressive House    19260\n",
              "Abstract             18175\n",
              "Europop              17870\n",
              "Classic Rock         17041\n",
              "Blues Rock           16410\n",
              "Dub                  15528\n",
              "Name: 1, dtype: int64"
            ]
          },
          "metadata": {},
          "execution_count": 59
        }
      ]
    },
    {
      "cell_type": "markdown",
      "source": [
        "## 20"
      ],
      "metadata": {
        "id": "uttU0fTOmh1x"
      }
    },
    {
      "cell_type": "markdown",
      "source": [
        "**Задание**:\n",
        "\n",
        "Макс Мартин — один из самых знаменитых продюсеров современности. Какие ещё продюсеры могут похвастаться работой с таким количеством исполнителей?\n",
        "\n",
        "**Примечание**:\n",
        "\n",
        "В исходных данных (discogs_20220601_masters.xml) информации о продюсерах в явном виде нет (ее можно попытаться достать из описания видео к релизам, но они там плохо структурированы, или из аттрибута join у артистов, но их там мало). \n",
        "\n",
        "Для решения этой проблемы, организаторы предложили следующее: \"можно взять их (продюсеров) в API, других выгрузках, или если не найдёте — реализуйте поиск самых популярных со-исполнителей (feat), а не продюсеров\"\n",
        "\n",
        "В итоге, удалось достать иформацию о том, является ли артист продюсером или нет из файла discogs_20220601_artists.xml.gz, при помощи простого поиска подстроки 'producer' в описании профиля (так считать немного не корректно, т.к. продюсер мог работать и не в роли продюсера над треком, но имеем, что имеем) :)\n",
        "\n",
        "Загрузим discogs_20220601_artists.xml.gz:"
      ],
      "metadata": {
        "id": "qfkDh9P8vaQT"
      }
    },
    {
      "cell_type": "code",
      "source": [
        "!wget http://discogs-data-dumps.s3-us-west-2.amazonaws.com/data/2022/discogs_20220601_artists.xml.gz\n",
        "!gunzip discogs_20220601_artists.xml.gz"
      ],
      "metadata": {
        "colab": {
          "base_uri": "https://localhost:8080/"
        },
        "id": "vTyPYQdDz7j0",
        "outputId": "396ecaa4-d752-4281-b00d-ea7262149103"
      },
      "execution_count": null,
      "outputs": [
        {
          "output_type": "stream",
          "name": "stdout",
          "text": [
            "--2022-07-10 08:56:45--  http://discogs-data-dumps.s3-us-west-2.amazonaws.com/data/2022/discogs_20220601_artists.xml.gz\n",
            "Resolving discogs-data-dumps.s3-us-west-2.amazonaws.com (discogs-data-dumps.s3-us-west-2.amazonaws.com)... 52.218.178.186\n",
            "Connecting to discogs-data-dumps.s3-us-west-2.amazonaws.com (discogs-data-dumps.s3-us-west-2.amazonaws.com)|52.218.178.186|:80... connected.\n",
            "HTTP request sent, awaiting response... 200 OK\n",
            "Length: 402639192 (384M) [application/x-gzip]\n",
            "Saving to: ‘discogs_20220601_artists.xml.gz’\n",
            "\n",
            "discogs_20220601_ar 100%[===================>] 383.99M  21.9MB/s    in 19s     \n",
            "\n",
            "2022-07-10 08:57:04 (20.2 MB/s) - ‘discogs_20220601_artists.xml.gz’ saved [402639192/402639192]\n",
            "\n"
          ]
        }
      ]
    },
    {
      "cell_type": "markdown",
      "source": [
        "Составим список продюсеров:"
      ],
      "metadata": {
        "id": "hzhn8PvOJbSX"
      }
    },
    {
      "cell_type": "code",
      "source": [
        "producers = list()\n",
        "\n",
        "for event, element in tqdm.tqdm(etree.iterparse(\n",
        "    'discogs_20220601_artists.xml',\n",
        "    tag='artist',\n",
        ")):\n",
        "  artist_info = dict()\n",
        "\n",
        "  for el_c in element.iterchildren():\n",
        "    if el_c.tag == 'id':\n",
        "      artist_info['id'] = int(el_c.text)\n",
        "    elif el_c.tag == 'name':\n",
        "      artist_info['name'] = el_c.text\n",
        "    elif el_c.tag == 'profile':\n",
        "      artist_info['is_producer'] = 'producer' in str(el_c.text).lower()\n",
        "\n",
        "  if artist_info.get('is_producer'):\n",
        "    producers.append(artist_info)\n",
        "  element.clear()"
      ],
      "metadata": {
        "colab": {
          "base_uri": "https://localhost:8080/"
        },
        "id": "cYL3mlIP31QM",
        "outputId": "df22cd79-e4a8-4bf8-96f8-35d663e67364"
      },
      "execution_count": null,
      "outputs": [
        {
          "output_type": "stream",
          "name": "stderr",
          "text": [
            "8149687it [01:43, 78802.41it/s]\n"
          ]
        }
      ]
    },
    {
      "cell_type": "markdown",
      "source": [
        "Превратим его в датафрейм:"
      ],
      "metadata": {
        "id": "9ZcKQpWZJhSM"
      }
    },
    {
      "cell_type": "code",
      "source": [
        "producers_df = pd.DataFrame(producers).set_index('id')\n",
        "producers_df.head()"
      ],
      "metadata": {
        "colab": {
          "base_uri": "https://localhost:8080/",
          "height": 237
        },
        "id": "RkiFV0P3AX6T",
        "outputId": "f96175ad-8f1f-4ecc-b5b3-c37b28dbba10"
      },
      "execution_count": null,
      "outputs": [
        {
          "output_type": "execute_result",
          "data": {
            "text/plain": [
              "             name  is_producer\n",
              "id                            \n",
              "3       Josh Wink         True\n",
              "4   Johannes Heil         True\n",
              "5      Heiko Laux         True\n",
              "8   Mood II Swing         True\n",
              "11       DJ Dozia         True"
            ],
            "text/html": [
              "\n",
              "  <div id=\"df-d1012706-8804-4b2b-a205-b4edaa45b5a9\">\n",
              "    <div class=\"colab-df-container\">\n",
              "      <div>\n",
              "<style scoped>\n",
              "    .dataframe tbody tr th:only-of-type {\n",
              "        vertical-align: middle;\n",
              "    }\n",
              "\n",
              "    .dataframe tbody tr th {\n",
              "        vertical-align: top;\n",
              "    }\n",
              "\n",
              "    .dataframe thead th {\n",
              "        text-align: right;\n",
              "    }\n",
              "</style>\n",
              "<table border=\"1\" class=\"dataframe\">\n",
              "  <thead>\n",
              "    <tr style=\"text-align: right;\">\n",
              "      <th></th>\n",
              "      <th>name</th>\n",
              "      <th>is_producer</th>\n",
              "    </tr>\n",
              "    <tr>\n",
              "      <th>id</th>\n",
              "      <th></th>\n",
              "      <th></th>\n",
              "    </tr>\n",
              "  </thead>\n",
              "  <tbody>\n",
              "    <tr>\n",
              "      <th>3</th>\n",
              "      <td>Josh Wink</td>\n",
              "      <td>True</td>\n",
              "    </tr>\n",
              "    <tr>\n",
              "      <th>4</th>\n",
              "      <td>Johannes Heil</td>\n",
              "      <td>True</td>\n",
              "    </tr>\n",
              "    <tr>\n",
              "      <th>5</th>\n",
              "      <td>Heiko Laux</td>\n",
              "      <td>True</td>\n",
              "    </tr>\n",
              "    <tr>\n",
              "      <th>8</th>\n",
              "      <td>Mood II Swing</td>\n",
              "      <td>True</td>\n",
              "    </tr>\n",
              "    <tr>\n",
              "      <th>11</th>\n",
              "      <td>DJ Dozia</td>\n",
              "      <td>True</td>\n",
              "    </tr>\n",
              "  </tbody>\n",
              "</table>\n",
              "</div>\n",
              "      <button class=\"colab-df-convert\" onclick=\"convertToInteractive('df-d1012706-8804-4b2b-a205-b4edaa45b5a9')\"\n",
              "              title=\"Convert this dataframe to an interactive table.\"\n",
              "              style=\"display:none;\">\n",
              "        \n",
              "  <svg xmlns=\"http://www.w3.org/2000/svg\" height=\"24px\"viewBox=\"0 0 24 24\"\n",
              "       width=\"24px\">\n",
              "    <path d=\"M0 0h24v24H0V0z\" fill=\"none\"/>\n",
              "    <path d=\"M18.56 5.44l.94 2.06.94-2.06 2.06-.94-2.06-.94-.94-2.06-.94 2.06-2.06.94zm-11 1L8.5 8.5l.94-2.06 2.06-.94-2.06-.94L8.5 2.5l-.94 2.06-2.06.94zm10 10l.94 2.06.94-2.06 2.06-.94-2.06-.94-.94-2.06-.94 2.06-2.06.94z\"/><path d=\"M17.41 7.96l-1.37-1.37c-.4-.4-.92-.59-1.43-.59-.52 0-1.04.2-1.43.59L10.3 9.45l-7.72 7.72c-.78.78-.78 2.05 0 2.83L4 21.41c.39.39.9.59 1.41.59.51 0 1.02-.2 1.41-.59l7.78-7.78 2.81-2.81c.8-.78.8-2.07 0-2.86zM5.41 20L4 18.59l7.72-7.72 1.47 1.35L5.41 20z\"/>\n",
              "  </svg>\n",
              "      </button>\n",
              "      \n",
              "  <style>\n",
              "    .colab-df-container {\n",
              "      display:flex;\n",
              "      flex-wrap:wrap;\n",
              "      gap: 12px;\n",
              "    }\n",
              "\n",
              "    .colab-df-convert {\n",
              "      background-color: #E8F0FE;\n",
              "      border: none;\n",
              "      border-radius: 50%;\n",
              "      cursor: pointer;\n",
              "      display: none;\n",
              "      fill: #1967D2;\n",
              "      height: 32px;\n",
              "      padding: 0 0 0 0;\n",
              "      width: 32px;\n",
              "    }\n",
              "\n",
              "    .colab-df-convert:hover {\n",
              "      background-color: #E2EBFA;\n",
              "      box-shadow: 0px 1px 2px rgba(60, 64, 67, 0.3), 0px 1px 3px 1px rgba(60, 64, 67, 0.15);\n",
              "      fill: #174EA6;\n",
              "    }\n",
              "\n",
              "    [theme=dark] .colab-df-convert {\n",
              "      background-color: #3B4455;\n",
              "      fill: #D2E3FC;\n",
              "    }\n",
              "\n",
              "    [theme=dark] .colab-df-convert:hover {\n",
              "      background-color: #434B5C;\n",
              "      box-shadow: 0px 1px 3px 1px rgba(0, 0, 0, 0.15);\n",
              "      filter: drop-shadow(0px 1px 2px rgba(0, 0, 0, 0.3));\n",
              "      fill: #FFFFFF;\n",
              "    }\n",
              "  </style>\n",
              "\n",
              "      <script>\n",
              "        const buttonEl =\n",
              "          document.querySelector('#df-d1012706-8804-4b2b-a205-b4edaa45b5a9 button.colab-df-convert');\n",
              "        buttonEl.style.display =\n",
              "          google.colab.kernel.accessAllowed ? 'block' : 'none';\n",
              "\n",
              "        async function convertToInteractive(key) {\n",
              "          const element = document.querySelector('#df-d1012706-8804-4b2b-a205-b4edaa45b5a9');\n",
              "          const dataTable =\n",
              "            await google.colab.kernel.invokeFunction('convertToInteractive',\n",
              "                                                     [key], {});\n",
              "          if (!dataTable) return;\n",
              "\n",
              "          const docLinkHtml = 'Like what you see? Visit the ' +\n",
              "            '<a target=\"_blank\" href=https://colab.research.google.com/notebooks/data_table.ipynb>data table notebook</a>'\n",
              "            + ' to learn more about interactive tables.';\n",
              "          element.innerHTML = '';\n",
              "          dataTable['output_type'] = 'display_data';\n",
              "          await google.colab.output.renderOutput(dataTable, element);\n",
              "          const docLink = document.createElement('div');\n",
              "          docLink.innerHTML = docLinkHtml;\n",
              "          element.appendChild(docLink);\n",
              "        }\n",
              "      </script>\n",
              "    </div>\n",
              "  </div>\n",
              "  "
            ]
          },
          "metadata": {},
          "execution_count": 62
        }
      ]
    },
    {
      "cell_type": "code",
      "source": [
        "producers_df.info(show_counts=True)"
      ],
      "metadata": {
        "colab": {
          "base_uri": "https://localhost:8080/"
        },
        "id": "kL97GXL-AggI",
        "outputId": "170d98ef-d645-48d5-ced4-510b1f610979"
      },
      "execution_count": null,
      "outputs": [
        {
          "output_type": "stream",
          "name": "stdout",
          "text": [
            "<class 'pandas.core.frame.DataFrame'>\n",
            "Int64Index: 153782 entries, 3 to 11333666\n",
            "Data columns (total 2 columns):\n",
            " #   Column       Non-Null Count   Dtype \n",
            "---  ------       --------------   ----- \n",
            " 0   name         153782 non-null  object\n",
            " 1   is_producer  153782 non-null  bool  \n",
            "dtypes: bool(1), object(1)\n",
            "memory usage: 2.5+ MB\n"
          ]
        }
      ]
    },
    {
      "cell_type": "markdown",
      "source": [
        "Посмотрим с какими другими артистами работают продюсеры (будем считать уникальных артистов):"
      ],
      "metadata": {
        "id": "bW8EI3euJmuL"
      }
    },
    {
      "cell_type": "code",
      "source": [
        "producers_to_artists = {p_id: set() for p_id in producers_df.index}"
      ],
      "metadata": {
        "id": "z-09t811BToC"
      },
      "execution_count": null,
      "outputs": []
    },
    {
      "cell_type": "code",
      "source": [
        "for event, element in tqdm.tqdm(etree.iterparse(\n",
        "    'discogs_20220601_masters.xml',\n",
        "    tag='master',\n",
        ")):\n",
        "  artists = set()\n",
        "\n",
        "  for el_c in element.iterchildren():\n",
        "    if el_c.tag == 'artists':\n",
        "      for el_artist in el_c.iterchildren(tag='artist'):\n",
        "        for el_artist_c in el_artist.iterchildren():\n",
        "          if el_artist_c.tag == 'id':\n",
        "            artists.add(int(el_artist_c.text))\n",
        "            break\n",
        "      break\n",
        "\n",
        "  if len(artists) > 1:\n",
        "    for a_id in artists:\n",
        "      if a_id in producers_to_artists:\n",
        "        producers_to_artists[a_id] = producers_to_artists[a_id] | artists - {a_id}\n",
        "  element.clear()"
      ],
      "metadata": {
        "colab": {
          "base_uri": "https://localhost:8080/"
        },
        "id": "X-eL6uwdm8IM",
        "outputId": "53934486-6875-4648-d58c-e6de27c5bdff"
      },
      "execution_count": null,
      "outputs": [
        {
          "output_type": "stream",
          "name": "stderr",
          "text": [
            "2054691it [01:28, 23265.89it/s]\n"
          ]
        }
      ]
    },
    {
      "cell_type": "markdown",
      "source": [
        "Посчитаем число артистов, с которыми работал каждый продюсер:"
      ],
      "metadata": {
        "id": "COqcBsNgJwa_"
      }
    },
    {
      "cell_type": "code",
      "source": [
        "producers_df['co_artists_count'] = producers_df.index.to_series().apply(lambda i: len(producers_to_artists[i]))\n",
        "producers_df.head()"
      ],
      "metadata": {
        "colab": {
          "base_uri": "https://localhost:8080/",
          "height": 237
        },
        "id": "HgVdfnBsGhZO",
        "outputId": "f274cc30-1aef-469e-dbc3-727af5301c7e"
      },
      "execution_count": null,
      "outputs": [
        {
          "output_type": "execute_result",
          "data": {
            "text/plain": [
              "             name  is_producer  co_artists_count\n",
              "id                                              \n",
              "3       Josh Wink         True                 9\n",
              "4   Johannes Heil         True                13\n",
              "5      Heiko Laux         True                 7\n",
              "8   Mood II Swing         True                15\n",
              "11       DJ Dozia         True                 1"
            ],
            "text/html": [
              "\n",
              "  <div id=\"df-3d8894db-3f2b-4f94-bcec-0887121846c7\">\n",
              "    <div class=\"colab-df-container\">\n",
              "      <div>\n",
              "<style scoped>\n",
              "    .dataframe tbody tr th:only-of-type {\n",
              "        vertical-align: middle;\n",
              "    }\n",
              "\n",
              "    .dataframe tbody tr th {\n",
              "        vertical-align: top;\n",
              "    }\n",
              "\n",
              "    .dataframe thead th {\n",
              "        text-align: right;\n",
              "    }\n",
              "</style>\n",
              "<table border=\"1\" class=\"dataframe\">\n",
              "  <thead>\n",
              "    <tr style=\"text-align: right;\">\n",
              "      <th></th>\n",
              "      <th>name</th>\n",
              "      <th>is_producer</th>\n",
              "      <th>co_artists_count</th>\n",
              "    </tr>\n",
              "    <tr>\n",
              "      <th>id</th>\n",
              "      <th></th>\n",
              "      <th></th>\n",
              "      <th></th>\n",
              "    </tr>\n",
              "  </thead>\n",
              "  <tbody>\n",
              "    <tr>\n",
              "      <th>3</th>\n",
              "      <td>Josh Wink</td>\n",
              "      <td>True</td>\n",
              "      <td>9</td>\n",
              "    </tr>\n",
              "    <tr>\n",
              "      <th>4</th>\n",
              "      <td>Johannes Heil</td>\n",
              "      <td>True</td>\n",
              "      <td>13</td>\n",
              "    </tr>\n",
              "    <tr>\n",
              "      <th>5</th>\n",
              "      <td>Heiko Laux</td>\n",
              "      <td>True</td>\n",
              "      <td>7</td>\n",
              "    </tr>\n",
              "    <tr>\n",
              "      <th>8</th>\n",
              "      <td>Mood II Swing</td>\n",
              "      <td>True</td>\n",
              "      <td>15</td>\n",
              "    </tr>\n",
              "    <tr>\n",
              "      <th>11</th>\n",
              "      <td>DJ Dozia</td>\n",
              "      <td>True</td>\n",
              "      <td>1</td>\n",
              "    </tr>\n",
              "  </tbody>\n",
              "</table>\n",
              "</div>\n",
              "      <button class=\"colab-df-convert\" onclick=\"convertToInteractive('df-3d8894db-3f2b-4f94-bcec-0887121846c7')\"\n",
              "              title=\"Convert this dataframe to an interactive table.\"\n",
              "              style=\"display:none;\">\n",
              "        \n",
              "  <svg xmlns=\"http://www.w3.org/2000/svg\" height=\"24px\"viewBox=\"0 0 24 24\"\n",
              "       width=\"24px\">\n",
              "    <path d=\"M0 0h24v24H0V0z\" fill=\"none\"/>\n",
              "    <path d=\"M18.56 5.44l.94 2.06.94-2.06 2.06-.94-2.06-.94-.94-2.06-.94 2.06-2.06.94zm-11 1L8.5 8.5l.94-2.06 2.06-.94-2.06-.94L8.5 2.5l-.94 2.06-2.06.94zm10 10l.94 2.06.94-2.06 2.06-.94-2.06-.94-.94-2.06-.94 2.06-2.06.94z\"/><path d=\"M17.41 7.96l-1.37-1.37c-.4-.4-.92-.59-1.43-.59-.52 0-1.04.2-1.43.59L10.3 9.45l-7.72 7.72c-.78.78-.78 2.05 0 2.83L4 21.41c.39.39.9.59 1.41.59.51 0 1.02-.2 1.41-.59l7.78-7.78 2.81-2.81c.8-.78.8-2.07 0-2.86zM5.41 20L4 18.59l7.72-7.72 1.47 1.35L5.41 20z\"/>\n",
              "  </svg>\n",
              "      </button>\n",
              "      \n",
              "  <style>\n",
              "    .colab-df-container {\n",
              "      display:flex;\n",
              "      flex-wrap:wrap;\n",
              "      gap: 12px;\n",
              "    }\n",
              "\n",
              "    .colab-df-convert {\n",
              "      background-color: #E8F0FE;\n",
              "      border: none;\n",
              "      border-radius: 50%;\n",
              "      cursor: pointer;\n",
              "      display: none;\n",
              "      fill: #1967D2;\n",
              "      height: 32px;\n",
              "      padding: 0 0 0 0;\n",
              "      width: 32px;\n",
              "    }\n",
              "\n",
              "    .colab-df-convert:hover {\n",
              "      background-color: #E2EBFA;\n",
              "      box-shadow: 0px 1px 2px rgba(60, 64, 67, 0.3), 0px 1px 3px 1px rgba(60, 64, 67, 0.15);\n",
              "      fill: #174EA6;\n",
              "    }\n",
              "\n",
              "    [theme=dark] .colab-df-convert {\n",
              "      background-color: #3B4455;\n",
              "      fill: #D2E3FC;\n",
              "    }\n",
              "\n",
              "    [theme=dark] .colab-df-convert:hover {\n",
              "      background-color: #434B5C;\n",
              "      box-shadow: 0px 1px 3px 1px rgba(0, 0, 0, 0.15);\n",
              "      filter: drop-shadow(0px 1px 2px rgba(0, 0, 0, 0.3));\n",
              "      fill: #FFFFFF;\n",
              "    }\n",
              "  </style>\n",
              "\n",
              "      <script>\n",
              "        const buttonEl =\n",
              "          document.querySelector('#df-3d8894db-3f2b-4f94-bcec-0887121846c7 button.colab-df-convert');\n",
              "        buttonEl.style.display =\n",
              "          google.colab.kernel.accessAllowed ? 'block' : 'none';\n",
              "\n",
              "        async function convertToInteractive(key) {\n",
              "          const element = document.querySelector('#df-3d8894db-3f2b-4f94-bcec-0887121846c7');\n",
              "          const dataTable =\n",
              "            await google.colab.kernel.invokeFunction('convertToInteractive',\n",
              "                                                     [key], {});\n",
              "          if (!dataTable) return;\n",
              "\n",
              "          const docLinkHtml = 'Like what you see? Visit the ' +\n",
              "            '<a target=\"_blank\" href=https://colab.research.google.com/notebooks/data_table.ipynb>data table notebook</a>'\n",
              "            + ' to learn more about interactive tables.';\n",
              "          element.innerHTML = '';\n",
              "          dataTable['output_type'] = 'display_data';\n",
              "          await google.colab.output.renderOutput(dataTable, element);\n",
              "          const docLink = document.createElement('div');\n",
              "          docLink.innerHTML = docLinkHtml;\n",
              "          element.appendChild(docLink);\n",
              "        }\n",
              "      </script>\n",
              "    </div>\n",
              "  </div>\n",
              "  "
            ]
          },
          "metadata": {},
          "execution_count": 66
        }
      ]
    },
    {
      "cell_type": "markdown",
      "source": [
        "Выведем топ-10 продюсеров по числу актеров, с которыми они работали:"
      ],
      "metadata": {
        "id": "XOOk16CXKuJp"
      }
    },
    {
      "cell_type": "code",
      "source": [
        "producers_df.sort_values(by='co_artists_count', ascending=False).head(10)"
      ],
      "metadata": {
        "colab": {
          "base_uri": "https://localhost:8080/",
          "height": 394
        },
        "id": "zxWu8PxlHIeD",
        "outputId": "07c1006e-6757-4e10-e01b-8fb8e0975671"
      },
      "execution_count": null,
      "outputs": [
        {
          "output_type": "execute_result",
          "data": {
            "text/plain": [
              "                                   name  is_producer  co_artists_count\n",
              "id                                                                    \n",
              "424576                 Daniel Barenboim         True               261\n",
              "282137  National Philharmonic Orchestra         True               186\n",
              "132084                       Snoop Dogg         True               166\n",
              "274325          Erich Wolfgang Korngold         True               158\n",
              "9070                   Armin van Buuren         True               130\n",
              "864674                   Hans Swarowsky         True               124\n",
              "833327                    Willy Hofmann         True               122\n",
              "232956                          Pitbull         True               118\n",
              "52833                     Frank Sinatra         True               106\n",
              "111502                        Sean Paul         True                94"
            ],
            "text/html": [
              "\n",
              "  <div id=\"df-c18b67b0-862a-4554-bf40-67ff87b9b262\">\n",
              "    <div class=\"colab-df-container\">\n",
              "      <div>\n",
              "<style scoped>\n",
              "    .dataframe tbody tr th:only-of-type {\n",
              "        vertical-align: middle;\n",
              "    }\n",
              "\n",
              "    .dataframe tbody tr th {\n",
              "        vertical-align: top;\n",
              "    }\n",
              "\n",
              "    .dataframe thead th {\n",
              "        text-align: right;\n",
              "    }\n",
              "</style>\n",
              "<table border=\"1\" class=\"dataframe\">\n",
              "  <thead>\n",
              "    <tr style=\"text-align: right;\">\n",
              "      <th></th>\n",
              "      <th>name</th>\n",
              "      <th>is_producer</th>\n",
              "      <th>co_artists_count</th>\n",
              "    </tr>\n",
              "    <tr>\n",
              "      <th>id</th>\n",
              "      <th></th>\n",
              "      <th></th>\n",
              "      <th></th>\n",
              "    </tr>\n",
              "  </thead>\n",
              "  <tbody>\n",
              "    <tr>\n",
              "      <th>424576</th>\n",
              "      <td>Daniel Barenboim</td>\n",
              "      <td>True</td>\n",
              "      <td>261</td>\n",
              "    </tr>\n",
              "    <tr>\n",
              "      <th>282137</th>\n",
              "      <td>National Philharmonic Orchestra</td>\n",
              "      <td>True</td>\n",
              "      <td>186</td>\n",
              "    </tr>\n",
              "    <tr>\n",
              "      <th>132084</th>\n",
              "      <td>Snoop Dogg</td>\n",
              "      <td>True</td>\n",
              "      <td>166</td>\n",
              "    </tr>\n",
              "    <tr>\n",
              "      <th>274325</th>\n",
              "      <td>Erich Wolfgang Korngold</td>\n",
              "      <td>True</td>\n",
              "      <td>158</td>\n",
              "    </tr>\n",
              "    <tr>\n",
              "      <th>9070</th>\n",
              "      <td>Armin van Buuren</td>\n",
              "      <td>True</td>\n",
              "      <td>130</td>\n",
              "    </tr>\n",
              "    <tr>\n",
              "      <th>864674</th>\n",
              "      <td>Hans Swarowsky</td>\n",
              "      <td>True</td>\n",
              "      <td>124</td>\n",
              "    </tr>\n",
              "    <tr>\n",
              "      <th>833327</th>\n",
              "      <td>Willy Hofmann</td>\n",
              "      <td>True</td>\n",
              "      <td>122</td>\n",
              "    </tr>\n",
              "    <tr>\n",
              "      <th>232956</th>\n",
              "      <td>Pitbull</td>\n",
              "      <td>True</td>\n",
              "      <td>118</td>\n",
              "    </tr>\n",
              "    <tr>\n",
              "      <th>52833</th>\n",
              "      <td>Frank Sinatra</td>\n",
              "      <td>True</td>\n",
              "      <td>106</td>\n",
              "    </tr>\n",
              "    <tr>\n",
              "      <th>111502</th>\n",
              "      <td>Sean Paul</td>\n",
              "      <td>True</td>\n",
              "      <td>94</td>\n",
              "    </tr>\n",
              "  </tbody>\n",
              "</table>\n",
              "</div>\n",
              "      <button class=\"colab-df-convert\" onclick=\"convertToInteractive('df-c18b67b0-862a-4554-bf40-67ff87b9b262')\"\n",
              "              title=\"Convert this dataframe to an interactive table.\"\n",
              "              style=\"display:none;\">\n",
              "        \n",
              "  <svg xmlns=\"http://www.w3.org/2000/svg\" height=\"24px\"viewBox=\"0 0 24 24\"\n",
              "       width=\"24px\">\n",
              "    <path d=\"M0 0h24v24H0V0z\" fill=\"none\"/>\n",
              "    <path d=\"M18.56 5.44l.94 2.06.94-2.06 2.06-.94-2.06-.94-.94-2.06-.94 2.06-2.06.94zm-11 1L8.5 8.5l.94-2.06 2.06-.94-2.06-.94L8.5 2.5l-.94 2.06-2.06.94zm10 10l.94 2.06.94-2.06 2.06-.94-2.06-.94-.94-2.06-.94 2.06-2.06.94z\"/><path d=\"M17.41 7.96l-1.37-1.37c-.4-.4-.92-.59-1.43-.59-.52 0-1.04.2-1.43.59L10.3 9.45l-7.72 7.72c-.78.78-.78 2.05 0 2.83L4 21.41c.39.39.9.59 1.41.59.51 0 1.02-.2 1.41-.59l7.78-7.78 2.81-2.81c.8-.78.8-2.07 0-2.86zM5.41 20L4 18.59l7.72-7.72 1.47 1.35L5.41 20z\"/>\n",
              "  </svg>\n",
              "      </button>\n",
              "      \n",
              "  <style>\n",
              "    .colab-df-container {\n",
              "      display:flex;\n",
              "      flex-wrap:wrap;\n",
              "      gap: 12px;\n",
              "    }\n",
              "\n",
              "    .colab-df-convert {\n",
              "      background-color: #E8F0FE;\n",
              "      border: none;\n",
              "      border-radius: 50%;\n",
              "      cursor: pointer;\n",
              "      display: none;\n",
              "      fill: #1967D2;\n",
              "      height: 32px;\n",
              "      padding: 0 0 0 0;\n",
              "      width: 32px;\n",
              "    }\n",
              "\n",
              "    .colab-df-convert:hover {\n",
              "      background-color: #E2EBFA;\n",
              "      box-shadow: 0px 1px 2px rgba(60, 64, 67, 0.3), 0px 1px 3px 1px rgba(60, 64, 67, 0.15);\n",
              "      fill: #174EA6;\n",
              "    }\n",
              "\n",
              "    [theme=dark] .colab-df-convert {\n",
              "      background-color: #3B4455;\n",
              "      fill: #D2E3FC;\n",
              "    }\n",
              "\n",
              "    [theme=dark] .colab-df-convert:hover {\n",
              "      background-color: #434B5C;\n",
              "      box-shadow: 0px 1px 3px 1px rgba(0, 0, 0, 0.15);\n",
              "      filter: drop-shadow(0px 1px 2px rgba(0, 0, 0, 0.3));\n",
              "      fill: #FFFFFF;\n",
              "    }\n",
              "  </style>\n",
              "\n",
              "      <script>\n",
              "        const buttonEl =\n",
              "          document.querySelector('#df-c18b67b0-862a-4554-bf40-67ff87b9b262 button.colab-df-convert');\n",
              "        buttonEl.style.display =\n",
              "          google.colab.kernel.accessAllowed ? 'block' : 'none';\n",
              "\n",
              "        async function convertToInteractive(key) {\n",
              "          const element = document.querySelector('#df-c18b67b0-862a-4554-bf40-67ff87b9b262');\n",
              "          const dataTable =\n",
              "            await google.colab.kernel.invokeFunction('convertToInteractive',\n",
              "                                                     [key], {});\n",
              "          if (!dataTable) return;\n",
              "\n",
              "          const docLinkHtml = 'Like what you see? Visit the ' +\n",
              "            '<a target=\"_blank\" href=https://colab.research.google.com/notebooks/data_table.ipynb>data table notebook</a>'\n",
              "            + ' to learn more about interactive tables.';\n",
              "          element.innerHTML = '';\n",
              "          dataTable['output_type'] = 'display_data';\n",
              "          await google.colab.output.renderOutput(dataTable, element);\n",
              "          const docLink = document.createElement('div');\n",
              "          docLink.innerHTML = docLinkHtml;\n",
              "          element.appendChild(docLink);\n",
              "        }\n",
              "      </script>\n",
              "    </div>\n",
              "  </div>\n",
              "  "
            ]
          },
          "metadata": {},
          "execution_count": 67
        }
      ]
    },
    {
      "cell_type": "markdown",
      "source": [
        "А что там у Макса?"
      ],
      "metadata": {
        "id": "TPvkyDccLApR"
      }
    },
    {
      "cell_type": "code",
      "source": [
        "producers_df[producers_df.name == 'Max Martin']"
      ],
      "metadata": {
        "colab": {
          "base_uri": "https://localhost:8080/",
          "height": 112
        },
        "id": "qgqKas6UHfpp",
        "outputId": "8a9fd9c2-b6c6-4ae5-9c68-32d75b34c578"
      },
      "execution_count": null,
      "outputs": [
        {
          "output_type": "execute_result",
          "data": {
            "text/plain": [
              "             name  is_producer  co_artists_count\n",
              "id                                              \n",
              "61337  Max Martin         True                 3"
            ],
            "text/html": [
              "\n",
              "  <div id=\"df-cf2cce30-6675-4999-98b8-7c85d3075945\">\n",
              "    <div class=\"colab-df-container\">\n",
              "      <div>\n",
              "<style scoped>\n",
              "    .dataframe tbody tr th:only-of-type {\n",
              "        vertical-align: middle;\n",
              "    }\n",
              "\n",
              "    .dataframe tbody tr th {\n",
              "        vertical-align: top;\n",
              "    }\n",
              "\n",
              "    .dataframe thead th {\n",
              "        text-align: right;\n",
              "    }\n",
              "</style>\n",
              "<table border=\"1\" class=\"dataframe\">\n",
              "  <thead>\n",
              "    <tr style=\"text-align: right;\">\n",
              "      <th></th>\n",
              "      <th>name</th>\n",
              "      <th>is_producer</th>\n",
              "      <th>co_artists_count</th>\n",
              "    </tr>\n",
              "    <tr>\n",
              "      <th>id</th>\n",
              "      <th></th>\n",
              "      <th></th>\n",
              "      <th></th>\n",
              "    </tr>\n",
              "  </thead>\n",
              "  <tbody>\n",
              "    <tr>\n",
              "      <th>61337</th>\n",
              "      <td>Max Martin</td>\n",
              "      <td>True</td>\n",
              "      <td>3</td>\n",
              "    </tr>\n",
              "  </tbody>\n",
              "</table>\n",
              "</div>\n",
              "      <button class=\"colab-df-convert\" onclick=\"convertToInteractive('df-cf2cce30-6675-4999-98b8-7c85d3075945')\"\n",
              "              title=\"Convert this dataframe to an interactive table.\"\n",
              "              style=\"display:none;\">\n",
              "        \n",
              "  <svg xmlns=\"http://www.w3.org/2000/svg\" height=\"24px\"viewBox=\"0 0 24 24\"\n",
              "       width=\"24px\">\n",
              "    <path d=\"M0 0h24v24H0V0z\" fill=\"none\"/>\n",
              "    <path d=\"M18.56 5.44l.94 2.06.94-2.06 2.06-.94-2.06-.94-.94-2.06-.94 2.06-2.06.94zm-11 1L8.5 8.5l.94-2.06 2.06-.94-2.06-.94L8.5 2.5l-.94 2.06-2.06.94zm10 10l.94 2.06.94-2.06 2.06-.94-2.06-.94-.94-2.06-.94 2.06-2.06.94z\"/><path d=\"M17.41 7.96l-1.37-1.37c-.4-.4-.92-.59-1.43-.59-.52 0-1.04.2-1.43.59L10.3 9.45l-7.72 7.72c-.78.78-.78 2.05 0 2.83L4 21.41c.39.39.9.59 1.41.59.51 0 1.02-.2 1.41-.59l7.78-7.78 2.81-2.81c.8-.78.8-2.07 0-2.86zM5.41 20L4 18.59l7.72-7.72 1.47 1.35L5.41 20z\"/>\n",
              "  </svg>\n",
              "      </button>\n",
              "      \n",
              "  <style>\n",
              "    .colab-df-container {\n",
              "      display:flex;\n",
              "      flex-wrap:wrap;\n",
              "      gap: 12px;\n",
              "    }\n",
              "\n",
              "    .colab-df-convert {\n",
              "      background-color: #E8F0FE;\n",
              "      border: none;\n",
              "      border-radius: 50%;\n",
              "      cursor: pointer;\n",
              "      display: none;\n",
              "      fill: #1967D2;\n",
              "      height: 32px;\n",
              "      padding: 0 0 0 0;\n",
              "      width: 32px;\n",
              "    }\n",
              "\n",
              "    .colab-df-convert:hover {\n",
              "      background-color: #E2EBFA;\n",
              "      box-shadow: 0px 1px 2px rgba(60, 64, 67, 0.3), 0px 1px 3px 1px rgba(60, 64, 67, 0.15);\n",
              "      fill: #174EA6;\n",
              "    }\n",
              "\n",
              "    [theme=dark] .colab-df-convert {\n",
              "      background-color: #3B4455;\n",
              "      fill: #D2E3FC;\n",
              "    }\n",
              "\n",
              "    [theme=dark] .colab-df-convert:hover {\n",
              "      background-color: #434B5C;\n",
              "      box-shadow: 0px 1px 3px 1px rgba(0, 0, 0, 0.15);\n",
              "      filter: drop-shadow(0px 1px 2px rgba(0, 0, 0, 0.3));\n",
              "      fill: #FFFFFF;\n",
              "    }\n",
              "  </style>\n",
              "\n",
              "      <script>\n",
              "        const buttonEl =\n",
              "          document.querySelector('#df-cf2cce30-6675-4999-98b8-7c85d3075945 button.colab-df-convert');\n",
              "        buttonEl.style.display =\n",
              "          google.colab.kernel.accessAllowed ? 'block' : 'none';\n",
              "\n",
              "        async function convertToInteractive(key) {\n",
              "          const element = document.querySelector('#df-cf2cce30-6675-4999-98b8-7c85d3075945');\n",
              "          const dataTable =\n",
              "            await google.colab.kernel.invokeFunction('convertToInteractive',\n",
              "                                                     [key], {});\n",
              "          if (!dataTable) return;\n",
              "\n",
              "          const docLinkHtml = 'Like what you see? Visit the ' +\n",
              "            '<a target=\"_blank\" href=https://colab.research.google.com/notebooks/data_table.ipynb>data table notebook</a>'\n",
              "            + ' to learn more about interactive tables.';\n",
              "          element.innerHTML = '';\n",
              "          dataTable['output_type'] = 'display_data';\n",
              "          await google.colab.output.renderOutput(dataTable, element);\n",
              "          const docLink = document.createElement('div');\n",
              "          docLink.innerHTML = docLinkHtml;\n",
              "          element.appendChild(docLink);\n",
              "        }\n",
              "      </script>\n",
              "    </div>\n",
              "  </div>\n",
              "  "
            ]
          },
          "metadata": {},
          "execution_count": 68
        }
      ]
    },
    {
      "cell_type": "markdown",
      "source": [
        "Не с таким уж и большим числом артистов он работал :("
      ],
      "metadata": {
        "id": "-ZnYo9faLEwH"
      }
    },
    {
      "cell_type": "markdown",
      "source": [
        "## 30"
      ],
      "metadata": {
        "id": "CIjgqaj9XcH2"
      }
    },
    {
      "cell_type": "markdown",
      "source": [
        "**Задание**:\n",
        "\n",
        "Посмотрите на формат Compilation — сборника аудиозаписей. Сборники могут подсказать вам, какие аудиодорожки могут идти друг за другом внутри сборника. По заданной аудиодорожке выводите ранжированный список из 20 других песен других исполнителей, которые чаще всего встречаются вместе с ней в сборниках (не в альбомах одного исполнителя!)."
      ],
      "metadata": {
        "id": "nBJpEaItPRKm"
      }
    },
    {
      "cell_type": "markdown",
      "source": [
        "Идея решения была в следующем. Сначала выгрузить список компиляций через API при помощи скрипта:\n",
        "\n",
        "```python\n",
        "import requests\n",
        "import tqdm\n",
        "\n",
        "QUERY_BASE = 'https://api.discogs.com'\n",
        "QUERY_KEY = 'YOUR_KEY'\n",
        "QUERY_SECRET = 'TOUR_SECRET'\n",
        "\n",
        "query = '?&key=&secret=&'\n",
        "\n",
        "if __name__ == '__main__':\n",
        "    master_ids = set()\n",
        "    for page in tqdm.trange(1, 101):\n",
        "        result = requests.get(\n",
        "            url=f'{QUERY_BASE}/database/search',\n",
        "            params={\n",
        "                'page': str(page),\n",
        "                'per_page': str(100),\n",
        "                'type': 'master',\n",
        "                'artist': 'Various',\n",
        "                'country': 'us',\n",
        "                'format': 'compilation',\n",
        "                'key': QUERY_KEY,\n",
        "                'secret': QUERY_SECRET,\n",
        "            }\n",
        "        )\n",
        "        data = result.json()\n",
        "\n",
        "        for r in data['results']:\n",
        "            master_ids.add(r['id'])\n",
        "\n",
        "    with open('compilations.csv', 'w') as f:\n",
        "        f.write('id\\n')\n",
        "        for id in master_ids:\n",
        "            f.write(f'{id}\\n')\n",
        "```\n",
        "\n",
        "Подгрузим данные в коллаб (их можно посмотреть [тут](https://drive.google.com/file/d/16qVNJKUBxhvtRN46BgGYkHyZNb-qCbu8/view?usp=sharing\n",
        ")):"
      ],
      "metadata": {
        "id": "ZAD6yxmKXjGh"
      }
    },
    {
      "cell_type": "code",
      "source": [
        "!wget 'https://drive.google.com/uc?export=download&id=16qVNJKUBxhvtRN46BgGYkHyZNb-qCbu8' -O compilations.csv"
      ],
      "metadata": {
        "colab": {
          "base_uri": "https://localhost:8080/"
        },
        "id": "lGVwL5I1Xdnw",
        "outputId": "9e98651f-31a0-4568-9476-a699d0811b92"
      },
      "execution_count": null,
      "outputs": [
        {
          "output_type": "stream",
          "name": "stdout",
          "text": [
            "--2022-07-10 09:00:37--  https://drive.google.com/uc?export=download&id=16qVNJKUBxhvtRN46BgGYkHyZNb-qCbu8\n",
            "Resolving drive.google.com (drive.google.com)... 108.177.125.113, 108.177.125.139, 108.177.125.138, ...\n",
            "Connecting to drive.google.com (drive.google.com)|108.177.125.113|:443... connected.\n",
            "HTTP request sent, awaiting response... 303 See Other\n",
            "Location: https://doc-04-6c-docs.googleusercontent.com/docs/securesc/ha0ro937gcuc7l7deffksulhg5h7mbp1/e7uo8lm4g43ka74lk90dkprhqait4c3b/1657443600000/09237333328454164588/*/16qVNJKUBxhvtRN46BgGYkHyZNb-qCbu8?e=download&uuid=02267a9a-ec67-4b94-8464-d815a4a61c26 [following]\n",
            "Warning: wildcards not supported in HTTP.\n",
            "--2022-07-10 09:00:37--  https://doc-04-6c-docs.googleusercontent.com/docs/securesc/ha0ro937gcuc7l7deffksulhg5h7mbp1/e7uo8lm4g43ka74lk90dkprhqait4c3b/1657443600000/09237333328454164588/*/16qVNJKUBxhvtRN46BgGYkHyZNb-qCbu8?e=download&uuid=02267a9a-ec67-4b94-8464-d815a4a61c26\n",
            "Resolving doc-04-6c-docs.googleusercontent.com (doc-04-6c-docs.googleusercontent.com)... 74.125.203.132, 2404:6800:4008:c03::84\n",
            "Connecting to doc-04-6c-docs.googleusercontent.com (doc-04-6c-docs.googleusercontent.com)|74.125.203.132|:443... connected.\n",
            "HTTP request sent, awaiting response... 200 OK\n",
            "Length: 73163 (71K) [text/csv]\n",
            "Saving to: ‘compilations.csv’\n",
            "\n",
            "compilations.csv    100%[===================>]  71.45K  --.-KB/s    in 0.001s  \n",
            "\n",
            "2022-07-10 09:00:38 (59.7 MB/s) - ‘compilations.csv’ saved [73163/73163]\n",
            "\n"
          ]
        }
      ]
    },
    {
      "cell_type": "markdown",
      "source": [
        "Считаем их:"
      ],
      "metadata": {
        "id": "8V4GLiuOQ2tA"
      }
    },
    {
      "cell_type": "code",
      "source": [
        "compilations_df = pd.read_csv('compilations.csv')\n",
        "compilations_df.head()"
      ],
      "metadata": {
        "colab": {
          "base_uri": "https://localhost:8080/",
          "height": 206
        },
        "id": "gFsjbffNZN7q",
        "outputId": "c4bdbb29-6f1a-40b8-f97d-91cdcc0cf5fd"
      },
      "execution_count": null,
      "outputs": [
        {
          "output_type": "execute_result",
          "data": {
            "text/plain": [
              "        id\n",
              "0  1736706\n",
              "1  1441823\n",
              "2  1769516\n",
              "3  1966126\n",
              "4  1802291"
            ],
            "text/html": [
              "\n",
              "  <div id=\"df-b5fd89f0-101f-4e15-b4cf-a80ebbcae9b0\">\n",
              "    <div class=\"colab-df-container\">\n",
              "      <div>\n",
              "<style scoped>\n",
              "    .dataframe tbody tr th:only-of-type {\n",
              "        vertical-align: middle;\n",
              "    }\n",
              "\n",
              "    .dataframe tbody tr th {\n",
              "        vertical-align: top;\n",
              "    }\n",
              "\n",
              "    .dataframe thead th {\n",
              "        text-align: right;\n",
              "    }\n",
              "</style>\n",
              "<table border=\"1\" class=\"dataframe\">\n",
              "  <thead>\n",
              "    <tr style=\"text-align: right;\">\n",
              "      <th></th>\n",
              "      <th>id</th>\n",
              "    </tr>\n",
              "  </thead>\n",
              "  <tbody>\n",
              "    <tr>\n",
              "      <th>0</th>\n",
              "      <td>1736706</td>\n",
              "    </tr>\n",
              "    <tr>\n",
              "      <th>1</th>\n",
              "      <td>1441823</td>\n",
              "    </tr>\n",
              "    <tr>\n",
              "      <th>2</th>\n",
              "      <td>1769516</td>\n",
              "    </tr>\n",
              "    <tr>\n",
              "      <th>3</th>\n",
              "      <td>1966126</td>\n",
              "    </tr>\n",
              "    <tr>\n",
              "      <th>4</th>\n",
              "      <td>1802291</td>\n",
              "    </tr>\n",
              "  </tbody>\n",
              "</table>\n",
              "</div>\n",
              "      <button class=\"colab-df-convert\" onclick=\"convertToInteractive('df-b5fd89f0-101f-4e15-b4cf-a80ebbcae9b0')\"\n",
              "              title=\"Convert this dataframe to an interactive table.\"\n",
              "              style=\"display:none;\">\n",
              "        \n",
              "  <svg xmlns=\"http://www.w3.org/2000/svg\" height=\"24px\"viewBox=\"0 0 24 24\"\n",
              "       width=\"24px\">\n",
              "    <path d=\"M0 0h24v24H0V0z\" fill=\"none\"/>\n",
              "    <path d=\"M18.56 5.44l.94 2.06.94-2.06 2.06-.94-2.06-.94-.94-2.06-.94 2.06-2.06.94zm-11 1L8.5 8.5l.94-2.06 2.06-.94-2.06-.94L8.5 2.5l-.94 2.06-2.06.94zm10 10l.94 2.06.94-2.06 2.06-.94-2.06-.94-.94-2.06-.94 2.06-2.06.94z\"/><path d=\"M17.41 7.96l-1.37-1.37c-.4-.4-.92-.59-1.43-.59-.52 0-1.04.2-1.43.59L10.3 9.45l-7.72 7.72c-.78.78-.78 2.05 0 2.83L4 21.41c.39.39.9.59 1.41.59.51 0 1.02-.2 1.41-.59l7.78-7.78 2.81-2.81c.8-.78.8-2.07 0-2.86zM5.41 20L4 18.59l7.72-7.72 1.47 1.35L5.41 20z\"/>\n",
              "  </svg>\n",
              "      </button>\n",
              "      \n",
              "  <style>\n",
              "    .colab-df-container {\n",
              "      display:flex;\n",
              "      flex-wrap:wrap;\n",
              "      gap: 12px;\n",
              "    }\n",
              "\n",
              "    .colab-df-convert {\n",
              "      background-color: #E8F0FE;\n",
              "      border: none;\n",
              "      border-radius: 50%;\n",
              "      cursor: pointer;\n",
              "      display: none;\n",
              "      fill: #1967D2;\n",
              "      height: 32px;\n",
              "      padding: 0 0 0 0;\n",
              "      width: 32px;\n",
              "    }\n",
              "\n",
              "    .colab-df-convert:hover {\n",
              "      background-color: #E2EBFA;\n",
              "      box-shadow: 0px 1px 2px rgba(60, 64, 67, 0.3), 0px 1px 3px 1px rgba(60, 64, 67, 0.15);\n",
              "      fill: #174EA6;\n",
              "    }\n",
              "\n",
              "    [theme=dark] .colab-df-convert {\n",
              "      background-color: #3B4455;\n",
              "      fill: #D2E3FC;\n",
              "    }\n",
              "\n",
              "    [theme=dark] .colab-df-convert:hover {\n",
              "      background-color: #434B5C;\n",
              "      box-shadow: 0px 1px 3px 1px rgba(0, 0, 0, 0.15);\n",
              "      filter: drop-shadow(0px 1px 2px rgba(0, 0, 0, 0.3));\n",
              "      fill: #FFFFFF;\n",
              "    }\n",
              "  </style>\n",
              "\n",
              "      <script>\n",
              "        const buttonEl =\n",
              "          document.querySelector('#df-b5fd89f0-101f-4e15-b4cf-a80ebbcae9b0 button.colab-df-convert');\n",
              "        buttonEl.style.display =\n",
              "          google.colab.kernel.accessAllowed ? 'block' : 'none';\n",
              "\n",
              "        async function convertToInteractive(key) {\n",
              "          const element = document.querySelector('#df-b5fd89f0-101f-4e15-b4cf-a80ebbcae9b0');\n",
              "          const dataTable =\n",
              "            await google.colab.kernel.invokeFunction('convertToInteractive',\n",
              "                                                     [key], {});\n",
              "          if (!dataTable) return;\n",
              "\n",
              "          const docLinkHtml = 'Like what you see? Visit the ' +\n",
              "            '<a target=\"_blank\" href=https://colab.research.google.com/notebooks/data_table.ipynb>data table notebook</a>'\n",
              "            + ' to learn more about interactive tables.';\n",
              "          element.innerHTML = '';\n",
              "          dataTable['output_type'] = 'display_data';\n",
              "          await google.colab.output.renderOutput(dataTable, element);\n",
              "          const docLink = document.createElement('div');\n",
              "          docLink.innerHTML = docLinkHtml;\n",
              "          element.appendChild(docLink);\n",
              "        }\n",
              "      </script>\n",
              "    </div>\n",
              "  </div>\n",
              "  "
            ]
          },
          "metadata": {},
          "execution_count": 70
        }
      ]
    },
    {
      "cell_type": "markdown",
      "source": [
        "Затем я собирался проитерироваться по ранее выгруженной xml-ке с мастер релизами и вытащить из них список треков, но как оказалось их там нет (истерический смех).\n",
        "\n",
        "Пришлось их выгружать через API напрямую:\n",
        "\n",
        "\n",
        "```python\n",
        "import datetime\n",
        "import time\n",
        "from typing import Callable\n",
        "import tqdm\n",
        "import requests\n",
        "import pandas as pd\n",
        "\n",
        "QUERY_BASE = 'https://api.discogs.com'\n",
        "QUERY_KEY = 'YOUR_KEY'\n",
        "QUERY_SECRET = 'TOUR_SECRET'\n",
        "\n",
        "query = '?&key=&secret=&'\n",
        "\n",
        "\n",
        "class _DelayWrapper:\n",
        "\n",
        "    def __init__(self, f: Callable, delay: float) -> None:\n",
        "        self.f = f\n",
        "        self.delay = delay\n",
        "        self.last_call = None\n",
        "\n",
        "    def __call__(self, *args, **kwargs):\n",
        "        curr_call = datetime.datetime.now()\n",
        "        if self.last_call is not None and (curr_call - self.last_call).total_seconds() < self.delay:\n",
        "            sleep_time = self.delay - \\\n",
        "                (curr_call - self.last_call).total_seconds()\n",
        "            time.sleep(sleep_time)\n",
        "            # print(f'Sleep {sleep_time:.5f} s')\n",
        "\n",
        "        try:\n",
        "            return self.f(*args, **kwargs)\n",
        "        finally:\n",
        "            self.last_call = datetime.datetime.now()\n",
        "\n",
        "\n",
        "requests.get = _DelayWrapper(f=requests.get, delay=1.01)\n",
        "\n",
        "if __name__ == '__main__':\n",
        "    compilations_ids = set(pd.read_csv('compilations.csv').id)\n",
        "    tracks = list()\n",
        "\n",
        "    for compilations_id in tqdm.tqdm(compilations_ids):\n",
        "        try:\n",
        "            result = requests.get(\n",
        "                url=f'{QUERY_BASE}/masters/{compilations_id}',\n",
        "                params={\n",
        "                    'key': QUERY_KEY,\n",
        "                    'secret': QUERY_SECRET,\n",
        "                }\n",
        "            )\n",
        "            data = result.json()\n",
        "\n",
        "            if 'tracklist' not in data:\n",
        "                print(data)\n",
        "\n",
        "            for i, track in enumerate(data['tracklist']):\n",
        "                artist_id, artist_name = None, None\n",
        "                if track['type_'] != 'track':\n",
        "                    continue\n",
        "\n",
        "                if 'artists' not in track:\n",
        "                    raise Exception(\n",
        "                        f'{compilations_id} is one artist compilation. Skipping it.')\n",
        "                for artist in track['artists']:\n",
        "                    artist_id, artist_name = artist['id'], artist['name']\n",
        "\n",
        "                tracks.append({\n",
        "                    'compilation_id': compilations_id,\n",
        "                    'position': i,\n",
        "                    'name': track['title'],\n",
        "                    'artist_id': artist_id,\n",
        "                    'artist_name': artist_name,\n",
        "                })\n",
        "        except Exception as ex:\n",
        "            print(f'{type(ex)}: {ex}')\n",
        "            continue\n",
        "\n",
        "    pd.DataFrame(tracks).to_csv('tracks.csv', index=False)\n",
        "```\n",
        "\n",
        "Подгрузим их коллаб (можно скачать еще и [тут](https://drive.google.com/file/d/1KknNykcG7_rosQ3RL9IsQo4lztBZCClJ/view?usp=sharing)):"
      ],
      "metadata": {
        "id": "aob7s0rIBFrV"
      }
    },
    {
      "cell_type": "code",
      "source": [
        "!wget 'https://drive.google.com/uc?export=download&id=1KknNykcG7_rosQ3RL9IsQo4lztBZCClJ' -O tracks.csv"
      ],
      "metadata": {
        "colab": {
          "base_uri": "https://localhost:8080/"
        },
        "id": "oRDEwMRrAzPG",
        "outputId": "83f48e35-72ce-4ac8-d27a-37f9ab3c66f0"
      },
      "execution_count": null,
      "outputs": [
        {
          "output_type": "stream",
          "name": "stdout",
          "text": [
            "--2022-07-10 09:00:38--  https://drive.google.com/uc?export=download&id=1KknNykcG7_rosQ3RL9IsQo4lztBZCClJ\n",
            "Resolving drive.google.com (drive.google.com)... 108.177.125.100, 108.177.125.138, 108.177.125.113, ...\n",
            "Connecting to drive.google.com (drive.google.com)|108.177.125.100|:443... connected.\n",
            "HTTP request sent, awaiting response... 303 See Other\n",
            "Location: https://doc-04-6c-docs.googleusercontent.com/docs/securesc/ha0ro937gcuc7l7deffksulhg5h7mbp1/un7o3dg19rqaecknq3elkk6p9bofqmek/1657443600000/09237333328454164588/*/1KknNykcG7_rosQ3RL9IsQo4lztBZCClJ?e=download&uuid=0495ff48-6a0c-4709-8113-dfbb161a9b45 [following]\n",
            "Warning: wildcards not supported in HTTP.\n",
            "--2022-07-10 09:00:39--  https://doc-04-6c-docs.googleusercontent.com/docs/securesc/ha0ro937gcuc7l7deffksulhg5h7mbp1/un7o3dg19rqaecknq3elkk6p9bofqmek/1657443600000/09237333328454164588/*/1KknNykcG7_rosQ3RL9IsQo4lztBZCClJ?e=download&uuid=0495ff48-6a0c-4709-8113-dfbb161a9b45\n",
            "Resolving doc-04-6c-docs.googleusercontent.com (doc-04-6c-docs.googleusercontent.com)... 74.125.203.132, 2404:6800:4008:c03::84\n",
            "Connecting to doc-04-6c-docs.googleusercontent.com (doc-04-6c-docs.googleusercontent.com)|74.125.203.132|:443... connected.\n",
            "HTTP request sent, awaiting response... 200 OK\n",
            "Length: 7042512 (6.7M) [text/csv]\n",
            "Saving to: ‘tracks.csv’\n",
            "\n",
            "tracks.csv          100%[===================>]   6.72M  --.-KB/s    in 0.06s   \n",
            "\n",
            "2022-07-10 09:00:40 (119 MB/s) - ‘tracks.csv’ saved [7042512/7042512]\n",
            "\n"
          ]
        }
      ]
    },
    {
      "cell_type": "markdown",
      "source": [
        "Считаем их:"
      ],
      "metadata": {
        "id": "BWZVKyFxStzf"
      }
    },
    {
      "cell_type": "code",
      "source": [
        "tracks_df = pd.read_csv('tracks.csv')\n",
        "tracks_df.head(5)"
      ],
      "metadata": {
        "colab": {
          "base_uri": "https://localhost:8080/",
          "height": 206
        },
        "id": "gP3ZmUTEZo3M",
        "outputId": "f49102a3-ea18-43c7-dd6c-89e72bb7803c"
      },
      "execution_count": null,
      "outputs": [
        {
          "output_type": "execute_result",
          "data": {
            "text/plain": [
              "   compilation_id  position              name  artist_id        artist_name\n",
              "0         1736706         1  Ball How Ya Ball    1538984         Mr. Cheefa\n",
              "1         1736706         2        Pop My P's     108623           Mac Mall\n",
              "2         1736706         3             Dolla     261580            Haystak\n",
              "3         1736706         4      Aint No Love    8304643  YT (N.O.H. Mafia)\n",
              "4         1736706         5      Givin' It Up     376153           Sir Dyno"
            ],
            "text/html": [
              "\n",
              "  <div id=\"df-d1e6f7a8-43d8-4ac5-9e58-eb0c8b9d765c\">\n",
              "    <div class=\"colab-df-container\">\n",
              "      <div>\n",
              "<style scoped>\n",
              "    .dataframe tbody tr th:only-of-type {\n",
              "        vertical-align: middle;\n",
              "    }\n",
              "\n",
              "    .dataframe tbody tr th {\n",
              "        vertical-align: top;\n",
              "    }\n",
              "\n",
              "    .dataframe thead th {\n",
              "        text-align: right;\n",
              "    }\n",
              "</style>\n",
              "<table border=\"1\" class=\"dataframe\">\n",
              "  <thead>\n",
              "    <tr style=\"text-align: right;\">\n",
              "      <th></th>\n",
              "      <th>compilation_id</th>\n",
              "      <th>position</th>\n",
              "      <th>name</th>\n",
              "      <th>artist_id</th>\n",
              "      <th>artist_name</th>\n",
              "    </tr>\n",
              "  </thead>\n",
              "  <tbody>\n",
              "    <tr>\n",
              "      <th>0</th>\n",
              "      <td>1736706</td>\n",
              "      <td>1</td>\n",
              "      <td>Ball How Ya Ball</td>\n",
              "      <td>1538984</td>\n",
              "      <td>Mr. Cheefa</td>\n",
              "    </tr>\n",
              "    <tr>\n",
              "      <th>1</th>\n",
              "      <td>1736706</td>\n",
              "      <td>2</td>\n",
              "      <td>Pop My P's</td>\n",
              "      <td>108623</td>\n",
              "      <td>Mac Mall</td>\n",
              "    </tr>\n",
              "    <tr>\n",
              "      <th>2</th>\n",
              "      <td>1736706</td>\n",
              "      <td>3</td>\n",
              "      <td>Dolla</td>\n",
              "      <td>261580</td>\n",
              "      <td>Haystak</td>\n",
              "    </tr>\n",
              "    <tr>\n",
              "      <th>3</th>\n",
              "      <td>1736706</td>\n",
              "      <td>4</td>\n",
              "      <td>Aint No Love</td>\n",
              "      <td>8304643</td>\n",
              "      <td>YT (N.O.H. Mafia)</td>\n",
              "    </tr>\n",
              "    <tr>\n",
              "      <th>4</th>\n",
              "      <td>1736706</td>\n",
              "      <td>5</td>\n",
              "      <td>Givin' It Up</td>\n",
              "      <td>376153</td>\n",
              "      <td>Sir Dyno</td>\n",
              "    </tr>\n",
              "  </tbody>\n",
              "</table>\n",
              "</div>\n",
              "      <button class=\"colab-df-convert\" onclick=\"convertToInteractive('df-d1e6f7a8-43d8-4ac5-9e58-eb0c8b9d765c')\"\n",
              "              title=\"Convert this dataframe to an interactive table.\"\n",
              "              style=\"display:none;\">\n",
              "        \n",
              "  <svg xmlns=\"http://www.w3.org/2000/svg\" height=\"24px\"viewBox=\"0 0 24 24\"\n",
              "       width=\"24px\">\n",
              "    <path d=\"M0 0h24v24H0V0z\" fill=\"none\"/>\n",
              "    <path d=\"M18.56 5.44l.94 2.06.94-2.06 2.06-.94-2.06-.94-.94-2.06-.94 2.06-2.06.94zm-11 1L8.5 8.5l.94-2.06 2.06-.94-2.06-.94L8.5 2.5l-.94 2.06-2.06.94zm10 10l.94 2.06.94-2.06 2.06-.94-2.06-.94-.94-2.06-.94 2.06-2.06.94z\"/><path d=\"M17.41 7.96l-1.37-1.37c-.4-.4-.92-.59-1.43-.59-.52 0-1.04.2-1.43.59L10.3 9.45l-7.72 7.72c-.78.78-.78 2.05 0 2.83L4 21.41c.39.39.9.59 1.41.59.51 0 1.02-.2 1.41-.59l7.78-7.78 2.81-2.81c.8-.78.8-2.07 0-2.86zM5.41 20L4 18.59l7.72-7.72 1.47 1.35L5.41 20z\"/>\n",
              "  </svg>\n",
              "      </button>\n",
              "      \n",
              "  <style>\n",
              "    .colab-df-container {\n",
              "      display:flex;\n",
              "      flex-wrap:wrap;\n",
              "      gap: 12px;\n",
              "    }\n",
              "\n",
              "    .colab-df-convert {\n",
              "      background-color: #E8F0FE;\n",
              "      border: none;\n",
              "      border-radius: 50%;\n",
              "      cursor: pointer;\n",
              "      display: none;\n",
              "      fill: #1967D2;\n",
              "      height: 32px;\n",
              "      padding: 0 0 0 0;\n",
              "      width: 32px;\n",
              "    }\n",
              "\n",
              "    .colab-df-convert:hover {\n",
              "      background-color: #E2EBFA;\n",
              "      box-shadow: 0px 1px 2px rgba(60, 64, 67, 0.3), 0px 1px 3px 1px rgba(60, 64, 67, 0.15);\n",
              "      fill: #174EA6;\n",
              "    }\n",
              "\n",
              "    [theme=dark] .colab-df-convert {\n",
              "      background-color: #3B4455;\n",
              "      fill: #D2E3FC;\n",
              "    }\n",
              "\n",
              "    [theme=dark] .colab-df-convert:hover {\n",
              "      background-color: #434B5C;\n",
              "      box-shadow: 0px 1px 3px 1px rgba(0, 0, 0, 0.15);\n",
              "      filter: drop-shadow(0px 1px 2px rgba(0, 0, 0, 0.3));\n",
              "      fill: #FFFFFF;\n",
              "    }\n",
              "  </style>\n",
              "\n",
              "      <script>\n",
              "        const buttonEl =\n",
              "          document.querySelector('#df-d1e6f7a8-43d8-4ac5-9e58-eb0c8b9d765c button.colab-df-convert');\n",
              "        buttonEl.style.display =\n",
              "          google.colab.kernel.accessAllowed ? 'block' : 'none';\n",
              "\n",
              "        async function convertToInteractive(key) {\n",
              "          const element = document.querySelector('#df-d1e6f7a8-43d8-4ac5-9e58-eb0c8b9d765c');\n",
              "          const dataTable =\n",
              "            await google.colab.kernel.invokeFunction('convertToInteractive',\n",
              "                                                     [key], {});\n",
              "          if (!dataTable) return;\n",
              "\n",
              "          const docLinkHtml = 'Like what you see? Visit the ' +\n",
              "            '<a target=\"_blank\" href=https://colab.research.google.com/notebooks/data_table.ipynb>data table notebook</a>'\n",
              "            + ' to learn more about interactive tables.';\n",
              "          element.innerHTML = '';\n",
              "          dataTable['output_type'] = 'display_data';\n",
              "          await google.colab.output.renderOutput(dataTable, element);\n",
              "          const docLink = document.createElement('div');\n",
              "          docLink.innerHTML = docLinkHtml;\n",
              "          element.appendChild(docLink);\n",
              "        }\n",
              "      </script>\n",
              "    </div>\n",
              "  </div>\n",
              "  "
            ]
          },
          "metadata": {},
          "execution_count": 72
        }
      ]
    },
    {
      "cell_type": "code",
      "source": [
        "tracks_df.info()"
      ],
      "metadata": {
        "colab": {
          "base_uri": "https://localhost:8080/"
        },
        "id": "LQ6_APKMB1QF",
        "outputId": "fd35d082-2979-48f6-cf0c-920b6792de74"
      },
      "execution_count": null,
      "outputs": [
        {
          "output_type": "stream",
          "name": "stdout",
          "text": [
            "<class 'pandas.core.frame.DataFrame'>\n",
            "RangeIndex: 139514 entries, 0 to 139513\n",
            "Data columns (total 5 columns):\n",
            " #   Column          Non-Null Count   Dtype \n",
            "---  ------          --------------   ----- \n",
            " 0   compilation_id  139514 non-null  int64 \n",
            " 1   position        139514 non-null  int64 \n",
            " 2   name            139510 non-null  object\n",
            " 3   artist_id       139514 non-null  int64 \n",
            " 4   artist_name     139514 non-null  object\n",
            "dtypes: int64(3), object(2)\n",
            "memory usage: 5.3+ MB\n"
          ]
        }
      ]
    },
    {
      "cell_type": "markdown",
      "source": [
        "Соберем вспомогатьные структуры:"
      ],
      "metadata": {
        "id": "HdenpTBCSyYB"
      }
    },
    {
      "cell_type": "code",
      "source": [
        "id_to_artist = dict() # id артиста -> имя артиста\n",
        "artist_to_id = dict() # имя артиста -> id артиста \n",
        "id_to_track = dict() # id трека -> (id артиста, имя трека)\n",
        "track_to_id = dict() # (id артиста, имя трека) -> id трека\n",
        "track_id_to_compilation_ids = dict() # id трека -> словарь (id компиляций -> позиция трека)\n",
        "compilation_id_to_track_ids = dict() # id компиляции -> множество id треков\n",
        "\n",
        "for r in tqdm.tqdm(tracks_df.itertuples()):\n",
        "  id_to_artist[r.artist_id] = r.artist_name\n",
        "  artist_to_id[r.artist_name] = r.artist_id\n",
        "\n",
        "  track = (r.artist_id, r.name)\n",
        "  if track not in track_to_id:\n",
        "    track_id = len(track_to_id)\n",
        "    track_to_id[track] = track_id\n",
        "    id_to_track[track_id] = track\n",
        "  else:\n",
        "    track_id = track_to_id[track]\n",
        "  \n",
        "  track_id_to_compilation_ids[track_id] = {**track_id_to_compilation_ids.get(track_id, dict()), **{r.compilation_id: r.position}}\n",
        "  compilation_id_to_track_ids[r.compilation_id] = compilation_id_to_track_ids.get(r.compilation_id, set()) | {track_id}"
      ],
      "metadata": {
        "colab": {
          "base_uri": "https://localhost:8080/"
        },
        "id": "kcSjcRaeB4L1",
        "outputId": "b9e4d682-e75a-4366-a4f6-75b98d7b0785"
      },
      "execution_count": null,
      "outputs": [
        {
          "output_type": "stream",
          "name": "stderr",
          "text": [
            "139514it [00:01, 131688.11it/s]\n"
          ]
        }
      ]
    },
    {
      "cell_type": "markdown",
      "source": [
        "Будем рекомендовать треки других артистов, которые чаще всего встречаются с заданным в компиляции.\n",
        "\n",
        "Объявим функцию рекомендации:"
      ],
      "metadata": {
        "id": "inRvP5QtUBf7"
      }
    },
    {
      "cell_type": "code",
      "source": [
        "def recomend(artist: str, name: str, n: int = 20):\n",
        "  if artist not in artist_to_id:\n",
        "    return []\n",
        "  artist_id = artist_to_id[artist]\n",
        "  track = (artist_id, name)\n",
        "  if track not in track_to_id:\n",
        "    return []\n",
        "  track_id = track_to_id[track]\n",
        "\n",
        "  candidates = dict()\n",
        "\n",
        "  for compilation_id in track_id_to_compilation_ids[track_id]:\n",
        "    for other_track_id in compilation_id_to_track_ids[compilation_id]:\n",
        "      if id_to_track[other_track_id][0] != artist_id:\n",
        "        candidates[other_track_id] = candidates.get(other_track_id, 0) + 1\n",
        "  \n",
        "  candidates = sorted(\n",
        "    map(\n",
        "      lambda v: (\n",
        "        (\n",
        "          v[0],\n",
        "          (\n",
        "            id_to_artist[id_to_track[v[0]][0]], \n",
        "           id_to_track[v[0]][1]\n",
        "          ),\n",
        "        ),\n",
        "        v[1]\n",
        "      ),\n",
        "      candidates.items()\n",
        "    ), \n",
        "    key=lambda v: v[1], \n",
        "    reverse=True\n",
        "  )\n",
        "\n",
        "  return candidates[:n]"
      ],
      "metadata": {
        "id": "XPgzVW5TEu8G"
      },
      "execution_count": null,
      "outputs": []
    },
    {
      "cell_type": "markdown",
      "source": [
        "Сделаем рекомендации:"
      ],
      "metadata": {
        "id": "RrGj1snAUFF8"
      }
    },
    {
      "cell_type": "code",
      "source": [
        "recomend('Deep Purple', 'Smoke On The Water')"
      ],
      "metadata": {
        "colab": {
          "base_uri": "https://localhost:8080/"
        },
        "id": "MrHTxUZeJzU5",
        "outputId": "45fdc62c-3970-4b9e-fbe2-a7bd2b620bba"
      },
      "execution_count": null,
      "outputs": [
        {
          "output_type": "execute_result",
          "data": {
            "text/plain": [
              "[((4224, ('The Allman Brothers Band', \"Ramblin' Man\")), 4),\n",
              " ((4226, ('Derek & The Dominos', 'Layla')), 3),\n",
              " ((4231, ('Alice Cooper', 'Eighteen')), 3),\n",
              " ((4241, ('Lynyrd Skynyrd', 'Free Bird')), 3),\n",
              " ((4219, ('Grand Funk Railroad', \"We're An American Band\")), 3),\n",
              " ((4225, ('Peter Frampton', 'Show Me The Way')), 2),\n",
              " ((770, ('Foreigner', 'Hot Blooded')), 2),\n",
              " ((4227, ('The Moody Blues', \"I'm Just A Singer (In A Rock And Roll Band)\")),\n",
              "  2),\n",
              " ((4229, ('Eric Clapton', 'After Midnight')), 2),\n",
              " ((775, ('Golden Earring', 'Radar Love')), 2),\n",
              " ((4232, ('Joe Cocker', 'She Came In Through The Bathroom Window')), 2),\n",
              " ((4233, ('Stephen Stills', \"Love The One You're With\")), 2),\n",
              " ((4234, ('The Allman Brothers Band', 'Whipping Post')), 2),\n",
              " ((4235, ('The Guess Who', 'American Woman')), 2),\n",
              " ((4236, ('Canned Heat', 'On The Road Again')), 2),\n",
              " ((4237, ('Free', 'All Right Now')), 2),\n",
              " ((4238, ('The Yardbirds', 'Heart Full Of Soul')), 2),\n",
              " ((4239, ('Joe Walsh', 'Rocky Mountain Way')), 2),\n",
              " ((456, ('Cream (2)', 'Sunshine Of Your Love')), 2),\n",
              " ((469, ('Lynyrd Skynyrd', 'Sweet Home Alabama')), 2)]"
            ]
          },
          "metadata": {},
          "execution_count": 76
        }
      ]
    },
    {
      "cell_type": "code",
      "source": [
        "recomend('The O\\'Jays', 'Love Train')"
      ],
      "metadata": {
        "colab": {
          "base_uri": "https://localhost:8080/"
        },
        "id": "jYmwKR7CMJlU",
        "outputId": "deb8bdb3-7f23-42e2-c285-89420e129a99"
      },
      "execution_count": null,
      "outputs": [
        {
          "output_type": "execute_result",
          "data": {
            "text/plain": [
              "[((13662, ('Gladys Knight And The Pips', 'Midnight Train To Georgia')), 4),\n",
              " ((3047, ('Average White Band', 'Pick Up The Pieces')), 3),\n",
              " ((9059, ('LaBelle', 'Lady Marmalade')), 3),\n",
              " ((9314, ('Jim Croce', 'Time In A Bottle')), 3),\n",
              " ((22633, ('The Chi-Lites', 'Have You Seen Her')), 3),\n",
              " ((656, ('Dobie Gray', 'Drift Away')), 3),\n",
              " ((312, ('Commodores', 'Brick House')), 2),\n",
              " ((9057, ('The Jackson 5', 'Dancing Machine')), 2),\n",
              " ((6021, ('B.T. Express', \"Do It ('Til You're Satisfied)\")), 2),\n",
              " ((465, ('James Taylor (2)', 'Fire And Rain')), 2),\n",
              " ((9318, ('Albert Hammond', 'It Never Rains In Southern California')), 2),\n",
              " ((4222, ('Rod Stewart', 'Maggie May')), 2),\n",
              " ((6019, ('Curtis Mayfield', 'Superfly')), 2),\n",
              " ((13654, ('Marvin Gaye', \"Let's Get It On\")), 2),\n",
              " ((13660, ('Four Tops', \"Ain't No Woman (Like The One I Got)\")), 2),\n",
              " ((13665, ('Aretha Franklin', 'Angel')), 2),\n",
              " ((22632, ('The Jackson 5', 'A B C')), 2),\n",
              " ((22634, ('Billy Paul', 'Me & Mrs. Jones')), 2),\n",
              " ((16200, ('Eddie Kendricks', \"Keep On Truckin' (Part 1)\")), 2),\n",
              " ((9273, ('Bill Withers', 'Lean On Me')), 2)]"
            ]
          },
          "metadata": {},
          "execution_count": 77
        }
      ]
    },
    {
      "cell_type": "markdown",
      "source": [
        "Пару песен я проверил руками, вроде, рекомендации неплохие."
      ],
      "metadata": {
        "id": "3FFZVgWMUJ4K"
      }
    },
    {
      "cell_type": "markdown",
      "source": [
        "## 40\n",
        "\n",
        "**Задание**:\n",
        "\n",
        "Придумайте и реализуйте самостоятельно, без использования библиотек, метрику для оценки качества рекомендаций песен. Считайте, что компиляции являются хорошими примерами рекомендаций."
      ],
      "metadata": {
        "id": "47wLOfJiZBd2"
      }
    },
    {
      "cell_type": "markdown",
      "source": [
        "Как мне кажется, метрика качества должна учитывать две вещи:\n",
        "\n",
        "- **A**. Насколько часто рекомендованные треки встречаются вместе с базовыми (Базовые треки - это треки, к которым строятся рекомендации).\n",
        "- **B**. Насколько часто рекомендованные треки встречаются друг с другом.\n",
        "\n",
        "Введем вспомогательные определения:\n",
        "\n",
        "`P(A)` - вероятность встретить трек A<br>\n",
        "`P(AB)` - вероятность встретить трек A и трек B вместе<br>\n",
        "`P(A+B)` - вероятность встретить трек A, или трек B, или оба вместе<br>\n",
        "`P(B|A)` - вероятность встретить трек B при условии, что встретился трек A (порядок треков не учитывается)<br>\n",
        "\n",
        "Все эти вероятности можно оценить исходя из компиляций:\n",
        "\n",
        "`P(A) = |C_A| / |C|`, где C_A - множество компиляций, содержащих трек A; C - множество всех компиляций; |.| - число элементов множества (мощность)<br>\n",
        "`P(AB) = |C_A & C_B| / |C|`, где X & Y - пересечение множеств<br>\n",
        "`P(A+B) = |C_A | C_B| / |C|`, где X | Y - объединение множеств<br>\n",
        "`P(B|A) = P(AB)/P(A) = |C_A & C_B| / |C_A|` (формула условной вероятности)<br>\n",
        "\n",
        "Учитывая выше сказанное, метрику можно задать следующим образом:\n",
        "\n",
        "- **A** определим как вероятность того, что при случайном выборе базового трека и рекомендованного трека, рекомендованный трек встретится вместе с базовым. Будем считать следующим образом:<br>\n",
        "`A = mean(P(r|b) for r in Rec for b in Base) = mean(|C_r & C_b| / |C_b| for r in Rec for b in Base)`\n",
        "- **B** определим как вероятность того, что при случайном выборе двух рекомендованных треков, они встретятся вместе. Будем считать следующим образом:<br>\n",
        "`A = mean(P(ab|a+b) for a in Rec for b in Rec) = mean(|C_r & C_b| / |C_A | C_B| for a in Rec for b in Rec)`\n",
        "- **Score** зададим как среднее арифметическое ранее заданных вероятностей:<br>\n",
        "`Score = (A + B) / 2`\n",
        "\n",
        "Примечания:\n",
        "\n",
        "- Вазовые и рекомендованные треки выбираются из списков базовых и рекомендованных треков соответственно, т.е. уже из сделанной рекомендации.\n",
        "- Данная метрика не учитывает порядок рекомендаций, но это можно легко исправить, изменив немного формулы.\n",
        "- В случае, когда рекомендация одна, то вероятность **B** не определена, в этом случае весь **Score** определим как вероятность **A**: `Score = A`\n",
        "\n",
        "Определим функцию:"
      ],
      "metadata": {
        "id": "bK_XdOB3UWw6"
      }
    },
    {
      "cell_type": "code",
      "source": [
        "def score(base_ids: list, recomendations_ids: list) -> float:\n",
        "  score = sum(\n",
        "    len(set(track_id_to_compilation_ids[br]) & set(track_id_to_compilation_ids[r])) \n",
        "    / len(track_id_to_compilation_ids[br])\n",
        "    for br in base_ids\n",
        "    for r in recomendations_ids\n",
        "  ) / len(base_ids) / len(recomendations_ids)\n",
        "\n",
        "  if len(recomendations_ids) > 1:\n",
        "    score = (\n",
        "        score\n",
        "        + sum(\n",
        "          len(set(track_id_to_compilation_ids[fr]) & set(track_id_to_compilation_ids[sr])) \n",
        "          / len(set(track_id_to_compilation_ids[fr]) | set(track_id_to_compilation_ids[sr]))\n",
        "          for i, fr in enumerate(recomendations_ids)\n",
        "          for sr in recomendations_ids[i+1:]\n",
        "        ) / len(recomendations_ids)\n",
        "        / (len(recomendations_ids) - 1)\n",
        "    ) / 2\n",
        "\n",
        "  return score"
      ],
      "metadata": {
        "id": "ig3Is_TXZbjf"
      },
      "execution_count": null,
      "outputs": []
    },
    {
      "cell_type": "markdown",
      "source": [
        "Определим вспомогательную функцию для вывода скора и рекомендации:"
      ],
      "metadata": {
        "id": "0Cj5s2Gkd2T0"
      }
    },
    {
      "cell_type": "code",
      "source": [
        "def recomend_and_print_score(artist: str, name: str, n: int = 20) -> list:\n",
        "  recomendations = recomend(artist, name, n)\n",
        "  base_id = track_to_id[(artist_to_id[artist], name)]\n",
        "  print('Score', score([base_id], [r[0][0] for r in recomendations]))\n",
        "  return recomendations"
      ],
      "metadata": {
        "id": "nHGckcIkdbP-"
      },
      "execution_count": null,
      "outputs": []
    },
    {
      "cell_type": "markdown",
      "source": [
        "Выведем скор и рекомендации к ранее рассмотренным песням:"
      ],
      "metadata": {
        "id": "lVbWOsKwe_6N"
      }
    },
    {
      "cell_type": "code",
      "source": [
        "recomend_and_print_score('The O\\'Jays', 'Love Train', n=20)"
      ],
      "metadata": {
        "colab": {
          "base_uri": "https://localhost:8080/"
        },
        "id": "Mop9IVx3ZEpX",
        "outputId": "9d963977-504d-4141-d778-496d913568a7"
      },
      "execution_count": null,
      "outputs": [
        {
          "output_type": "stream",
          "name": "stdout",
          "text": [
            "Score 0.0869142881127673\n"
          ]
        },
        {
          "output_type": "execute_result",
          "data": {
            "text/plain": [
              "[((13662, ('Gladys Knight And The Pips', 'Midnight Train To Georgia')), 4),\n",
              " ((3047, ('Average White Band', 'Pick Up The Pieces')), 3),\n",
              " ((9059, ('LaBelle', 'Lady Marmalade')), 3),\n",
              " ((9314, ('Jim Croce', 'Time In A Bottle')), 3),\n",
              " ((22633, ('The Chi-Lites', 'Have You Seen Her')), 3),\n",
              " ((656, ('Dobie Gray', 'Drift Away')), 3),\n",
              " ((312, ('Commodores', 'Brick House')), 2),\n",
              " ((9057, ('The Jackson 5', 'Dancing Machine')), 2),\n",
              " ((6021, ('B.T. Express', \"Do It ('Til You're Satisfied)\")), 2),\n",
              " ((465, ('James Taylor (2)', 'Fire And Rain')), 2),\n",
              " ((9318, ('Albert Hammond', 'It Never Rains In Southern California')), 2),\n",
              " ((4222, ('Rod Stewart', 'Maggie May')), 2),\n",
              " ((6019, ('Curtis Mayfield', 'Superfly')), 2),\n",
              " ((13654, ('Marvin Gaye', \"Let's Get It On\")), 2),\n",
              " ((13660, ('Four Tops', \"Ain't No Woman (Like The One I Got)\")), 2),\n",
              " ((13665, ('Aretha Franklin', 'Angel')), 2),\n",
              " ((22632, ('The Jackson 5', 'A B C')), 2),\n",
              " ((22634, ('Billy Paul', 'Me & Mrs. Jones')), 2),\n",
              " ((16200, ('Eddie Kendricks', \"Keep On Truckin' (Part 1)\")), 2),\n",
              " ((9273, ('Bill Withers', 'Lean On Me')), 2)]"
            ]
          },
          "metadata": {},
          "execution_count": 80
        }
      ]
    },
    {
      "cell_type": "code",
      "source": [
        "recomend_and_print_score('Deep Purple', 'Smoke On The Water')"
      ],
      "metadata": {
        "colab": {
          "base_uri": "https://localhost:8080/"
        },
        "id": "EJfRMJIGbRC4",
        "outputId": "965695c8-9ec4-4215-fbac-f57d97d951fc"
      },
      "execution_count": null,
      "outputs": [
        {
          "output_type": "stream",
          "name": "stdout",
          "text": [
            "Score 0.2080089146597287\n"
          ]
        },
        {
          "output_type": "execute_result",
          "data": {
            "text/plain": [
              "[((4224, ('The Allman Brothers Band', \"Ramblin' Man\")), 4),\n",
              " ((4226, ('Derek & The Dominos', 'Layla')), 3),\n",
              " ((4231, ('Alice Cooper', 'Eighteen')), 3),\n",
              " ((4241, ('Lynyrd Skynyrd', 'Free Bird')), 3),\n",
              " ((4219, ('Grand Funk Railroad', \"We're An American Band\")), 3),\n",
              " ((4225, ('Peter Frampton', 'Show Me The Way')), 2),\n",
              " ((770, ('Foreigner', 'Hot Blooded')), 2),\n",
              " ((4227, ('The Moody Blues', \"I'm Just A Singer (In A Rock And Roll Band)\")),\n",
              "  2),\n",
              " ((4229, ('Eric Clapton', 'After Midnight')), 2),\n",
              " ((775, ('Golden Earring', 'Radar Love')), 2),\n",
              " ((4232, ('Joe Cocker', 'She Came In Through The Bathroom Window')), 2),\n",
              " ((4233, ('Stephen Stills', \"Love The One You're With\")), 2),\n",
              " ((4234, ('The Allman Brothers Band', 'Whipping Post')), 2),\n",
              " ((4235, ('The Guess Who', 'American Woman')), 2),\n",
              " ((4236, ('Canned Heat', 'On The Road Again')), 2),\n",
              " ((4237, ('Free', 'All Right Now')), 2),\n",
              " ((4238, ('The Yardbirds', 'Heart Full Of Soul')), 2),\n",
              " ((4239, ('Joe Walsh', 'Rocky Mountain Way')), 2),\n",
              " ((456, ('Cream (2)', 'Sunshine Of Your Love')), 2),\n",
              " ((469, ('Lynyrd Skynyrd', 'Sweet Home Alabama')), 2)]"
            ]
          },
          "metadata": {},
          "execution_count": 81
        }
      ]
    },
    {
      "cell_type": "markdown",
      "source": [
        "Видно, что во втором случае рекомендании оказались лучше.\n",
        "\n",
        "Сравним со случайными рекомендациями:"
      ],
      "metadata": {
        "id": "NYYFM6-6fOoa"
      }
    },
    {
      "cell_type": "code",
      "source": [
        "def recomend_random_and_print_score(artist: str, name: str, n: int = 20) -> list:\n",
        "  recomendations = random.choices(list(id_to_track), k=n)\n",
        "  base_id = track_to_id[(artist_to_id[artist], name)]\n",
        "  print('Score', score([base_id], recomendations))\n",
        "  return recomendations"
      ],
      "metadata": {
        "id": "bSoqzat2eHVR"
      },
      "execution_count": null,
      "outputs": []
    },
    {
      "cell_type": "code",
      "source": [
        "recomend_random_and_print_score('The O\\'Jays', 'Love Train');\n",
        "recomend_random_and_print_score('Deep Purple', 'Smoke On The Water');"
      ],
      "metadata": {
        "colab": {
          "base_uri": "https://localhost:8080/"
        },
        "id": "LPg3M-mvZaQw",
        "outputId": "2a1841de-45f2-457a-91f8-57e866b89bcf"
      },
      "execution_count": null,
      "outputs": [
        {
          "output_type": "stream",
          "name": "stdout",
          "text": [
            "Score 0.0\n",
            "Score 0.0035714285714285713\n"
          ]
        }
      ]
    },
    {
      "cell_type": "markdown",
      "source": [
        "Заметно, что наши рекомендации заметно лучше случайных!"
      ],
      "metadata": {
        "id": "RkkvRodpfZVA"
      }
    },
    {
      "cell_type": "markdown",
      "source": [
        "## 50"
      ],
      "metadata": {
        "id": "YWdtWnDzlmw-"
      }
    },
    {
      "cell_type": "markdown",
      "source": [
        "**Задание**:\n",
        "\n",
        "Улучшите задание за 30. Основываясь на ссылках на 10 песен подряд, выведите список из 20 других песен, которые с большей вероятностью следуют за ними в компиляциях. Оцените вашу выборку, основываясь на метрике из задания за 40."
      ],
      "metadata": {
        "id": "2HyjpQ5pNJa4"
      }
    },
    {
      "cell_type": "markdown",
      "source": [
        "Будем рекомендовать треки, которые встречаются после базовых в компиляциях. Будем ранжировать их по тому, как часто они встречаются с базовыми в одной компиляции и как близко они находятся в одной компиляции. \n",
        "\n",
        "Определим новую функцию для рекомендаций:"
      ],
      "metadata": {
        "id": "OnYeqYUBfje8"
      }
    },
    {
      "cell_type": "code",
      "source": [
        "def recomend_next(base_ids: list, n: int = 20):\n",
        "  candidates = dict()\n",
        "\n",
        "  for base_id in base_ids:\n",
        "    for compilation_id in track_id_to_compilation_ids[base_id]:\n",
        "      for other_track_id in compilation_id_to_track_ids[compilation_id]:\n",
        "\n",
        "        base_position = track_id_to_compilation_ids[base_id][compilation_id]\n",
        "        other_track_position = track_id_to_compilation_ids[other_track_id][compilation_id]\n",
        "\n",
        "        if base_position < other_track_position:# в задании ничего не сказано про исполнителя, проверять не будем\n",
        "          # чем раньше встречается трек после базового, тем больше скора даем\n",
        "          candidates[other_track_id] = candidates.get(other_track_id, 0) + 1 / (other_track_position - base_position)\n",
        "  \n",
        "  candidates = sorted(\n",
        "    map(\n",
        "      lambda v: (\n",
        "        (\n",
        "          v[0],\n",
        "          (\n",
        "            id_to_artist[id_to_track[v[0]][0]], \n",
        "           id_to_track[v[0]][1]\n",
        "          ),\n",
        "        ),\n",
        "        v[1]\n",
        "      ),\n",
        "      candidates.items()\n",
        "    ), \n",
        "    key=lambda v: v[1], \n",
        "    reverse=True\n",
        "  )\n",
        "\n",
        "  return candidates[:n]"
      ],
      "metadata": {
        "id": "0Sb--5WhloBd"
      },
      "execution_count": null,
      "outputs": []
    },
    {
      "cell_type": "markdown",
      "source": [
        "Определим вспомогательную функцию для вывода рекомендаций и скора:"
      ],
      "metadata": {
        "id": "FqAQL9pYilRx"
      }
    },
    {
      "cell_type": "code",
      "source": [
        "def recomend_next_and_print_score(base_ids: list, n: int = 20) -> list:\n",
        "  recomendations = recomend_next(base_ids, n)\n",
        "  print('Score', score(base_ids, [r[0][0] for r in recomendations]))\n",
        "  return recomendations"
      ],
      "metadata": {
        "id": "B39beo6TnFEc"
      },
      "execution_count": null,
      "outputs": []
    },
    {
      "cell_type": "markdown",
      "source": [
        "Сделаем рекомендации:"
      ],
      "metadata": {
        "id": "W_Ou-VKTiyus"
      }
    },
    {
      "cell_type": "code",
      "source": [
        "base = [\n",
        "  ((13348, ('Sugarloaf', 'Green-Eyed Lady')), 2),\n",
        "  ((13355, ('Foghat', 'Slow Ride')), 2),\n",
        "  ((3620, ('Bad Company (3)', \"Feel Like Makin' Love\")), 2),\n",
        "  ((3625, ('Grand Funk Railroad', \"We're An American Band\")), 2),\n",
        "  ((3628, ('Rod Stewart', 'Maggie May')), 2),\n",
        "  ((3632, ('The Allman Brothers Band', \"Ramblin' Man\")), 2),\n",
        "  ((3633, ('Peter Frampton', 'Show Me The Way')), 2),\n",
        "  ((3638, ('Golden Earring', 'Radar Love')), 2),\n",
        "  ((3650, ('Lynyrd Skynyrd', 'Free Bird')), 2),\n",
        "  ((659, ('The Edgar Winter Group', 'Frankenstein')), 2),\n",
        "]"
      ],
      "metadata": {
        "id": "DypGiBuEmryE"
      },
      "execution_count": null,
      "outputs": []
    },
    {
      "cell_type": "code",
      "source": [
        "recomend_next_and_print_score([t[0][0] for t in base])"
      ],
      "metadata": {
        "colab": {
          "base_uri": "https://localhost:8080/"
        },
        "id": "AI57CPrImLtb",
        "outputId": "36125c41-1060-4681-c11a-fe056b3fd323"
      },
      "execution_count": null,
      "outputs": [
        {
          "output_type": "stream",
          "name": "stdout",
          "text": [
            "Score 0.3794736842105263\n"
          ]
        },
        {
          "output_type": "execute_result",
          "data": {
            "text/plain": [
              "[((3634, ('NASA Space Universe', 'PYOP')), 1.8492063492063493),\n",
              " ((3639, ('Bored Straight', 'What Are You Celebrating?')), 1.5244930508088403),\n",
              " ((3633, ('Porkeria', 'Somos Punk?')), 1.4019230769230768),\n",
              " ((3629, ('Negative Degree', 'Passive-Active')), 1.3611111111111112),\n",
              " ((3626, ('Inservibles', 'Viva La Muerte')), 1.1666666666666667),\n",
              " ((3635, ('NASA Space Universe', 'Dollah Bill')), 1.1428571428571428),\n",
              " ((13356, ('The Project (15)', 'Epilog')), 1.125),\n",
              " ((13349, ('Redd Devlin & The Tormentors', 'False Positive')), 1.0),\n",
              " ((3621, ('Adjustment To Society', 'Not Yours')), 1.0),\n",
              " ((3651, ('Robin S.', 'I Want To Thank You')), 1.0),\n",
              " ((34884, ('Frankie Knuckles', 'Too Many Fish')), 1.0),\n",
              " ((660, ('Love And Rockets', 'This Heaven')), 1.0),\n",
              " ((3640, ('Broken Prayer', 'Growth')), 0.9678571428571429),\n",
              " ((3636, ('Good Throb', 'Toner Loner')), 0.8617424242424243),\n",
              " ((3630, ('Negative Degree', 'F.O.F.')), 0.8),\n",
              " ((3641, ('Thee Nodes', 'Comomodify Me')), 0.756486568986569),\n",
              " ((3637, ('Good Throb', \"You Ain't Never\")), 0.7032679738562091),\n",
              " ((3627, ('Tenement', 'Rain In Mind')), 0.6428571428571428),\n",
              " ((3642, ('Thee Nodes', 'F.O.L')), 0.6368177574059928),\n",
              " ((3638, ('Bored Straight', 'Thumbnail')), 0.5991452991452992)]"
            ]
          },
          "metadata": {},
          "execution_count": 87
        }
      ]
    },
    {
      "cell_type": "markdown",
      "source": [
        "Сравним со случайными:"
      ],
      "metadata": {
        "id": "9Qrm5WHvi1Or"
      }
    },
    {
      "cell_type": "code",
      "source": [
        "def recomend_next_random_and_print_score(base_ids: list, n: int = 20) -> list:\n",
        "  recomendations = random.choices(list(id_to_track), k=n)\n",
        "  print('Score', score(base_ids, recomendations))\n",
        "  return recomendations"
      ],
      "metadata": {
        "id": "50h0DB3unboC"
      },
      "execution_count": null,
      "outputs": []
    },
    {
      "cell_type": "code",
      "source": [
        "recomend_next_random_and_print_score([t[0][0] for t in base]);"
      ],
      "metadata": {
        "colab": {
          "base_uri": "https://localhost:8080/"
        },
        "id": "BjyeoGA1njfw",
        "outputId": "d999e34b-1745-4e1c-9546-e437f939ac65"
      },
      "execution_count": null,
      "outputs": [
        {
          "output_type": "stream",
          "name": "stdout",
          "text": [
            "Score 0.0\n"
          ]
        }
      ]
    },
    {
      "cell_type": "markdown",
      "source": [
        "Видно, что наша рекомендация во много раз лучше случайной!"
      ],
      "metadata": {
        "id": "pHLk5EY5i6bd"
      }
    }
  ]
}